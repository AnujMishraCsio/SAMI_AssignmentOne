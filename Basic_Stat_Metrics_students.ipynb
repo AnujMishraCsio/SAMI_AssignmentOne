{
  "nbformat": 4,
  "nbformat_minor": 0,
  "metadata": {
    "anaconda-cloud": {},
    "kernelspec": {
      "display_name": "Python [default]",
      "language": "python",
      "name": "python3"
    },
    "language_info": {
      "codemirror_mode": {
        "name": "ipython",
        "version": 3
      },
      "file_extension": ".py",
      "mimetype": "text/x-python",
      "name": "python",
      "nbconvert_exporter": "python",
      "pygments_lexer": "ipython3",
      "version": "3.5.2"
    },
    "colab": {
      "name": "Basic_Stat_Metrics_students.ipynb",
      "provenance": [],
      "toc_visible": true
    }
  },
  "cells": [
    {
      "cell_type": "markdown",
      "metadata": {
        "id": "uzFrJdN1zo1g"
      },
      "source": [
        "# Basic Metrics\n",
        "\n",
        "When we think about summarizing data, what are the metrics that we look at?\n",
        "\n",
        "We will look at the car dataset\n",
        "\n",
        "## Data Sources\n",
        "\n",
        "The idea of the project is to create a small dataset of cars available in India, with the intention to comparing prices, specs, fuel economy etc. across car types. \n",
        "\n",
        "- **[SIAM (Society of Indian Automobile Manufacturers)](http://www.siamindia.com/)**: This is the manufacturer government facing association and they do have statistical data on sales and market share of cars by segment and category (though it is paid). They do have one pdf document on fuel economy by car type and engine capacity - [SIAM Fuel Economy Data](http://www.siamindia.com/uploads/filemanager/256th-4W-FE-Data-Declaration.pdf)\n",
        "\n",
        "- **[ARAI (Automobile Research Association of India)](https://www.araiindia.com/)** - This is the government insitute responsible for providing certification and testing services and I would have expected them to have good database of specs and fuel economy for all the cars. Unfortunately, they don't have any public available data. A website called [ARAI mileage](http://araimileage.in/) seems to have a collected data but in a pdf very similiar to the SIAM format.\n",
        "\n",
        "- **Car comparison websites** - There are so many car comparison website avaiable - carwale.com, cardekho.com, overdrive.in, cartrade.com, zigwheels.com, auto.ndtv.com but most of them are setup to compare or select 3-4 cars at a time. We actually need a way to scrape the specification data for all the cars. Lets use one of these sites - [Car Zoom](http://carzoom.in/car-specification/) which has good list of specs and price info.\n",
        "\n",
        "Source- Amit Kapoor"
      ]
    },
    {
      "cell_type": "code",
      "metadata": {
        "collapsed": true,
        "id": "FpJaxBKMzo1q"
      },
      "source": [
        "#Import the required libraries\n",
        "import numpy as np\n",
        "import pandas as pd\n",
        "from datetime import datetime as dt\n",
        "from scipy import stats"
      ],
      "execution_count": null,
      "outputs": []
    },
    {
      "cell_type": "code",
      "metadata": {
        "colab": {
          "base_uri": "https://localhost:8080/"
        },
        "id": "N0flfEMpzyDR",
        "outputId": "40c01892-5dad-4ff2-e56c-babc5d516a5a"
      },
      "source": [
        "from google.colab import drive\n",
        "drive.mount('/content/drive')"
      ],
      "execution_count": null,
      "outputs": [
        {
          "output_type": "stream",
          "text": [
            "Mounted at /content/drive\n"
          ],
          "name": "stdout"
        }
      ]
    },
    {
      "cell_type": "markdown",
      "metadata": {
        "id": "KA3eHxYpzo1s"
      },
      "source": [
        "### Read the dataset\n"
      ]
    },
    {
      "cell_type": "code",
      "metadata": {
        "id": "m9UFYVRyzo1s"
      },
      "source": [
        "cars = pd.read_csv(\"/content/drive/MyDrive/Colab Notebooks/hackermath-master/data/cars_v1.csv\", encoding = \"ISO-8859-1\")"
      ],
      "execution_count": null,
      "outputs": []
    },
    {
      "cell_type": "markdown",
      "metadata": {
        "id": "g9jNsHvezo1s"
      },
      "source": [
        "### Warm up"
      ]
    },
    {
      "cell_type": "code",
      "metadata": {
        "colab": {
          "base_uri": "https://localhost:8080/",
          "height": 289
        },
        "id": "VEla2ap5zo1t",
        "outputId": "0fd22e37-c439-4320-dfe9-39cce17e855f"
      },
      "source": [
        "cars.head()\n"
      ],
      "execution_count": null,
      "outputs": [
        {
          "output_type": "execute_result",
          "data": {
            "text/html": [
              "<div>\n",
              "<style scoped>\n",
              "    .dataframe tbody tr th:only-of-type {\n",
              "        vertical-align: middle;\n",
              "    }\n",
              "\n",
              "    .dataframe tbody tr th {\n",
              "        vertical-align: top;\n",
              "    }\n",
              "\n",
              "    .dataframe thead th {\n",
              "        text-align: right;\n",
              "    }\n",
              "</style>\n",
              "<table border=\"1\" class=\"dataframe\">\n",
              "  <thead>\n",
              "    <tr style=\"text-align: right;\">\n",
              "      <th></th>\n",
              "      <th>Make</th>\n",
              "      <th>Model</th>\n",
              "      <th>Price</th>\n",
              "      <th>Type</th>\n",
              "      <th>ABS</th>\n",
              "      <th>BootSpace</th>\n",
              "      <th>GearType</th>\n",
              "      <th>AirBag</th>\n",
              "      <th>Engine</th>\n",
              "      <th>FuelCapacity</th>\n",
              "      <th>Mileage</th>\n",
              "    </tr>\n",
              "  </thead>\n",
              "  <tbody>\n",
              "    <tr>\n",
              "      <th>0</th>\n",
              "      <td>Ashok Leyland Stile</td>\n",
              "      <td>Ashok Leyland Stile LE 8-STR (Diesel)</td>\n",
              "      <td>750</td>\n",
              "      <td>MPV</td>\n",
              "      <td>No</td>\n",
              "      <td>500.0</td>\n",
              "      <td>Manual</td>\n",
              "      <td>No</td>\n",
              "      <td>1461.0</td>\n",
              "      <td>50.0</td>\n",
              "      <td>20.7</td>\n",
              "    </tr>\n",
              "    <tr>\n",
              "      <th>1</th>\n",
              "      <td>Ashok Leyland Stile</td>\n",
              "      <td>Ashok Leyland Stile LS 8-STR (Diesel)</td>\n",
              "      <td>800</td>\n",
              "      <td>MPV</td>\n",
              "      <td>No</td>\n",
              "      <td>500.0</td>\n",
              "      <td>Manual</td>\n",
              "      <td>No</td>\n",
              "      <td>1461.0</td>\n",
              "      <td>50.0</td>\n",
              "      <td>20.7</td>\n",
              "    </tr>\n",
              "    <tr>\n",
              "      <th>2</th>\n",
              "      <td>Ashok Leyland Stile</td>\n",
              "      <td>Ashok Leyland Stile LX 8-STR (Diesel)</td>\n",
              "      <td>830</td>\n",
              "      <td>MPV</td>\n",
              "      <td>No</td>\n",
              "      <td>500.0</td>\n",
              "      <td>Manual</td>\n",
              "      <td>No</td>\n",
              "      <td>1461.0</td>\n",
              "      <td>50.0</td>\n",
              "      <td>20.7</td>\n",
              "    </tr>\n",
              "    <tr>\n",
              "      <th>3</th>\n",
              "      <td>Ashok Leyland Stile</td>\n",
              "      <td>Ashok Leyland Stile LS 7-STR (Diesel)</td>\n",
              "      <td>850</td>\n",
              "      <td>MPV</td>\n",
              "      <td>No</td>\n",
              "      <td>500.0</td>\n",
              "      <td>Manual</td>\n",
              "      <td>No</td>\n",
              "      <td>1461.0</td>\n",
              "      <td>50.0</td>\n",
              "      <td>20.7</td>\n",
              "    </tr>\n",
              "    <tr>\n",
              "      <th>4</th>\n",
              "      <td>Ashok Leyland Stile</td>\n",
              "      <td>Ashok Leyland Stile LS 7-STR Alloy (Diesel)</td>\n",
              "      <td>880</td>\n",
              "      <td>MPV</td>\n",
              "      <td>No</td>\n",
              "      <td>500.0</td>\n",
              "      <td>Manual</td>\n",
              "      <td>No</td>\n",
              "      <td>1461.0</td>\n",
              "      <td>50.0</td>\n",
              "      <td>20.7</td>\n",
              "    </tr>\n",
              "  </tbody>\n",
              "</table>\n",
              "</div>"
            ],
            "text/plain": [
              "                  Make  ... Mileage\n",
              "0  Ashok Leyland Stile  ...    20.7\n",
              "1  Ashok Leyland Stile  ...    20.7\n",
              "2  Ashok Leyland Stile  ...    20.7\n",
              "3  Ashok Leyland Stile  ...    20.7\n",
              "4  Ashok Leyland Stile  ...    20.7\n",
              "\n",
              "[5 rows x 11 columns]"
            ]
          },
          "metadata": {
            "tags": []
          },
          "execution_count": 4
        }
      ]
    },
    {
      "cell_type": "markdown",
      "metadata": {
        "id": "_wf2vvD5zo1u"
      },
      "source": [
        "**Exercise**"
      ]
    },
    {
      "cell_type": "code",
      "metadata": {
        "colab": {
          "base_uri": "https://localhost:8080/",
          "height": 529
        },
        "id": "sb1dVCHPzo1v",
        "outputId": "f8b42695-0765-4e27-be22-87c0b326d802"
      },
      "source": [
        "#Display the first 10 records\n",
        "cars.head(10)"
      ],
      "execution_count": null,
      "outputs": [
        {
          "output_type": "execute_result",
          "data": {
            "text/html": [
              "<div>\n",
              "<style scoped>\n",
              "    .dataframe tbody tr th:only-of-type {\n",
              "        vertical-align: middle;\n",
              "    }\n",
              "\n",
              "    .dataframe tbody tr th {\n",
              "        vertical-align: top;\n",
              "    }\n",
              "\n",
              "    .dataframe thead th {\n",
              "        text-align: right;\n",
              "    }\n",
              "</style>\n",
              "<table border=\"1\" class=\"dataframe\">\n",
              "  <thead>\n",
              "    <tr style=\"text-align: right;\">\n",
              "      <th></th>\n",
              "      <th>Make</th>\n",
              "      <th>Model</th>\n",
              "      <th>Price</th>\n",
              "      <th>Type</th>\n",
              "      <th>ABS</th>\n",
              "      <th>BootSpace</th>\n",
              "      <th>GearType</th>\n",
              "      <th>AirBag</th>\n",
              "      <th>Engine</th>\n",
              "      <th>FuelCapacity</th>\n",
              "      <th>Mileage</th>\n",
              "    </tr>\n",
              "  </thead>\n",
              "  <tbody>\n",
              "    <tr>\n",
              "      <th>0</th>\n",
              "      <td>Ashok Leyland Stile</td>\n",
              "      <td>Ashok Leyland Stile LE 8-STR (Diesel)</td>\n",
              "      <td>750</td>\n",
              "      <td>MPV</td>\n",
              "      <td>No</td>\n",
              "      <td>500.0</td>\n",
              "      <td>Manual</td>\n",
              "      <td>No</td>\n",
              "      <td>1461.0</td>\n",
              "      <td>50.0</td>\n",
              "      <td>20.7</td>\n",
              "    </tr>\n",
              "    <tr>\n",
              "      <th>1</th>\n",
              "      <td>Ashok Leyland Stile</td>\n",
              "      <td>Ashok Leyland Stile LS 8-STR (Diesel)</td>\n",
              "      <td>800</td>\n",
              "      <td>MPV</td>\n",
              "      <td>No</td>\n",
              "      <td>500.0</td>\n",
              "      <td>Manual</td>\n",
              "      <td>No</td>\n",
              "      <td>1461.0</td>\n",
              "      <td>50.0</td>\n",
              "      <td>20.7</td>\n",
              "    </tr>\n",
              "    <tr>\n",
              "      <th>2</th>\n",
              "      <td>Ashok Leyland Stile</td>\n",
              "      <td>Ashok Leyland Stile LX 8-STR (Diesel)</td>\n",
              "      <td>830</td>\n",
              "      <td>MPV</td>\n",
              "      <td>No</td>\n",
              "      <td>500.0</td>\n",
              "      <td>Manual</td>\n",
              "      <td>No</td>\n",
              "      <td>1461.0</td>\n",
              "      <td>50.0</td>\n",
              "      <td>20.7</td>\n",
              "    </tr>\n",
              "    <tr>\n",
              "      <th>3</th>\n",
              "      <td>Ashok Leyland Stile</td>\n",
              "      <td>Ashok Leyland Stile LS 7-STR (Diesel)</td>\n",
              "      <td>850</td>\n",
              "      <td>MPV</td>\n",
              "      <td>No</td>\n",
              "      <td>500.0</td>\n",
              "      <td>Manual</td>\n",
              "      <td>No</td>\n",
              "      <td>1461.0</td>\n",
              "      <td>50.0</td>\n",
              "      <td>20.7</td>\n",
              "    </tr>\n",
              "    <tr>\n",
              "      <th>4</th>\n",
              "      <td>Ashok Leyland Stile</td>\n",
              "      <td>Ashok Leyland Stile LS 7-STR Alloy (Diesel)</td>\n",
              "      <td>880</td>\n",
              "      <td>MPV</td>\n",
              "      <td>No</td>\n",
              "      <td>500.0</td>\n",
              "      <td>Manual</td>\n",
              "      <td>No</td>\n",
              "      <td>1461.0</td>\n",
              "      <td>50.0</td>\n",
              "      <td>20.7</td>\n",
              "    </tr>\n",
              "    <tr>\n",
              "      <th>5</th>\n",
              "      <td>Ashok Leyland Stile</td>\n",
              "      <td>Ashok Leyland Stile LX 7-STR (Diesel)</td>\n",
              "      <td>900</td>\n",
              "      <td>MPV</td>\n",
              "      <td>No</td>\n",
              "      <td>500.0</td>\n",
              "      <td>Manual</td>\n",
              "      <td>No</td>\n",
              "      <td>1461.0</td>\n",
              "      <td>50.0</td>\n",
              "      <td>20.7</td>\n",
              "    </tr>\n",
              "    <tr>\n",
              "      <th>6</th>\n",
              "      <td>Ashok Leyland Stile</td>\n",
              "      <td>Ashok Leyland Stile LX 7-STR Alloy (Diesel)</td>\n",
              "      <td>930</td>\n",
              "      <td>MPV</td>\n",
              "      <td>No</td>\n",
              "      <td>500.0</td>\n",
              "      <td>Manual</td>\n",
              "      <td>No</td>\n",
              "      <td>1461.0</td>\n",
              "      <td>50.0</td>\n",
              "      <td>20.7</td>\n",
              "    </tr>\n",
              "    <tr>\n",
              "      <th>7</th>\n",
              "      <td>Aston Martin Rapide</td>\n",
              "      <td>Aston Martin Rapide LUXE (Petrol)</td>\n",
              "      <td>35000</td>\n",
              "      <td>Sedan</td>\n",
              "      <td>Yes</td>\n",
              "      <td>300.0</td>\n",
              "      <td>Automatic</td>\n",
              "      <td>Yes</td>\n",
              "      <td>5935.0</td>\n",
              "      <td>90.5</td>\n",
              "      <td>7.0</td>\n",
              "    </tr>\n",
              "    <tr>\n",
              "      <th>8</th>\n",
              "      <td>Aston Martin Rapide S</td>\n",
              "      <td>Aston Martin Rapide S (Petrol)</td>\n",
              "      <td>44000</td>\n",
              "      <td>Sedan</td>\n",
              "      <td>Yes</td>\n",
              "      <td>NaN</td>\n",
              "      <td>Automatic</td>\n",
              "      <td>Yes</td>\n",
              "      <td>5935.0</td>\n",
              "      <td>90.0</td>\n",
              "      <td>11.9</td>\n",
              "    </tr>\n",
              "    <tr>\n",
              "      <th>9</th>\n",
              "      <td>Aston Martin V12 Vantage</td>\n",
              "      <td>Aston Martin V12 Vantage Coupe (Petrol)</td>\n",
              "      <td>35000</td>\n",
              "      <td>Coupe</td>\n",
              "      <td>Yes</td>\n",
              "      <td>300.0</td>\n",
              "      <td>Automatic</td>\n",
              "      <td>Yes</td>\n",
              "      <td>5935.0</td>\n",
              "      <td>80.0</td>\n",
              "      <td>9.0</td>\n",
              "    </tr>\n",
              "  </tbody>\n",
              "</table>\n",
              "</div>"
            ],
            "text/plain": [
              "                       Make  ... Mileage\n",
              "0       Ashok Leyland Stile  ...    20.7\n",
              "1       Ashok Leyland Stile  ...    20.7\n",
              "2       Ashok Leyland Stile  ...    20.7\n",
              "3       Ashok Leyland Stile  ...    20.7\n",
              "4       Ashok Leyland Stile  ...    20.7\n",
              "5       Ashok Leyland Stile  ...    20.7\n",
              "6       Ashok Leyland Stile  ...    20.7\n",
              "7       Aston Martin Rapide  ...     7.0\n",
              "8     Aston Martin Rapide S  ...    11.9\n",
              "9  Aston Martin V12 Vantage  ...     9.0\n",
              "\n",
              "[10 rows x 11 columns]"
            ]
          },
          "metadata": {
            "tags": []
          },
          "execution_count": 6
        }
      ]
    },
    {
      "cell_type": "code",
      "metadata": {
        "id": "k1bUEAp3zo1v",
        "outputId": "7ce0518e-b53f-49df-b192-d1238919d082"
      },
      "source": [
        "#Display the last 5 records\n",
        "cars.tail()"
      ],
      "execution_count": null,
      "outputs": [
        {
          "output_type": "execute_result",
          "data": {
            "text/html": [
              "<div>\n",
              "<table border=\"1\" class=\"dataframe\">\n",
              "  <thead>\n",
              "    <tr style=\"text-align: right;\">\n",
              "      <th></th>\n",
              "      <th>Make</th>\n",
              "      <th>Model</th>\n",
              "      <th>Price</th>\n",
              "      <th>Type</th>\n",
              "      <th>ABS</th>\n",
              "      <th>BootSpace</th>\n",
              "      <th>GearType</th>\n",
              "      <th>AirBag</th>\n",
              "      <th>Engine</th>\n",
              "      <th>FuelCapacity</th>\n",
              "      <th>Mileage</th>\n",
              "    </tr>\n",
              "  </thead>\n",
              "  <tbody>\n",
              "    <tr>\n",
              "      <th>828</th>\n",
              "      <td>Volvo V40</td>\n",
              "      <td>Volvo V40 D3 R-Design (Diesel)</td>\n",
              "      <td>2770</td>\n",
              "      <td>Hatchback</td>\n",
              "      <td>Yes</td>\n",
              "      <td>324.0</td>\n",
              "      <td>Automatic</td>\n",
              "      <td>Yes</td>\n",
              "      <td>1984.0</td>\n",
              "      <td>62.0</td>\n",
              "      <td>27.8</td>\n",
              "    </tr>\n",
              "    <tr>\n",
              "      <th>829</th>\n",
              "      <td>Volvo V40 Cross Country</td>\n",
              "      <td>Volvo V40 D3 Cross Country (Diesel)</td>\n",
              "      <td>3180</td>\n",
              "      <td>Hatchback</td>\n",
              "      <td>Yes</td>\n",
              "      <td>335.0</td>\n",
              "      <td>Automatic</td>\n",
              "      <td>Yes</td>\n",
              "      <td>1984.0</td>\n",
              "      <td>60.0</td>\n",
              "      <td>16.8</td>\n",
              "    </tr>\n",
              "    <tr>\n",
              "      <th>830</th>\n",
              "      <td>Volvo V40 Cross Country</td>\n",
              "      <td>Volvo V40 T4 Cross Country (Petrol)</td>\n",
              "      <td>3240</td>\n",
              "      <td>Hatchback</td>\n",
              "      <td>Yes</td>\n",
              "      <td>324.0</td>\n",
              "      <td>Automatic</td>\n",
              "      <td>Yes</td>\n",
              "      <td>1596.0</td>\n",
              "      <td>50.0</td>\n",
              "      <td>16.0</td>\n",
              "    </tr>\n",
              "    <tr>\n",
              "      <th>831</th>\n",
              "      <td>Volvo XC90</td>\n",
              "      <td>Volvo XC 90 D5 Momentum(Diesel)</td>\n",
              "      <td>6490</td>\n",
              "      <td>SUV</td>\n",
              "      <td>Yes</td>\n",
              "      <td>NaN</td>\n",
              "      <td>Automatic</td>\n",
              "      <td>Yes</td>\n",
              "      <td>1969.0</td>\n",
              "      <td>68.0</td>\n",
              "      <td>11.1</td>\n",
              "    </tr>\n",
              "    <tr>\n",
              "      <th>832</th>\n",
              "      <td>Volvo XC90</td>\n",
              "      <td>Volvo XC 90 D5 Inscription(Diesel)</td>\n",
              "      <td>7790</td>\n",
              "      <td>SUV</td>\n",
              "      <td>Yes</td>\n",
              "      <td>NaN</td>\n",
              "      <td>Automatic</td>\n",
              "      <td>Yes</td>\n",
              "      <td>1969.0</td>\n",
              "      <td>68.0</td>\n",
              "      <td>11.1</td>\n",
              "    </tr>\n",
              "  </tbody>\n",
              "</table>\n",
              "</div>"
            ],
            "text/plain": [
              "                        Make                                Model  Price  \\\n",
              "828                Volvo V40       Volvo V40 D3 R-Design (Diesel)   2770   \n",
              "829  Volvo V40 Cross Country  Volvo V40 D3 Cross Country (Diesel)   3180   \n",
              "830  Volvo V40 Cross Country  Volvo V40 T4 Cross Country (Petrol)   3240   \n",
              "831               Volvo XC90      Volvo XC 90 D5 Momentum(Diesel)   6490   \n",
              "832               Volvo XC90   Volvo XC 90 D5 Inscription(Diesel)   7790   \n",
              "\n",
              "          Type   ABS  BootSpace    GearType AirBag  Engine  FuelCapacity  \\\n",
              "828  Hatchback   Yes      324.0   Automatic    Yes  1984.0          62.0   \n",
              "829  Hatchback   Yes      335.0   Automatic    Yes  1984.0          60.0   \n",
              "830  Hatchback   Yes      324.0   Automatic    Yes  1596.0          50.0   \n",
              "831        SUV   Yes        NaN   Automatic    Yes  1969.0          68.0   \n",
              "832        SUV   Yes        NaN   Automatic    Yes  1969.0          68.0   \n",
              "\n",
              "     Mileage  \n",
              "828     27.8  \n",
              "829     16.8  \n",
              "830     16.0  \n",
              "831     11.1  \n",
              "832     11.1  "
            ]
          },
          "metadata": {
            "tags": []
          },
          "execution_count": 6
        }
      ]
    },
    {
      "cell_type": "code",
      "metadata": {
        "colab": {
          "base_uri": "https://localhost:8080/"
        },
        "id": "K8tokNUFzo1w",
        "outputId": "e203c2a1-7cae-4764-8b44-98c74ec782fa"
      },
      "source": [
        "#Find the number of rows and columns in the dataset\n",
        "cars.shape"
      ],
      "execution_count": null,
      "outputs": [
        {
          "output_type": "execute_result",
          "data": {
            "text/plain": [
              "(833, 11)"
            ]
          },
          "metadata": {
            "tags": []
          },
          "execution_count": 7
        }
      ]
    },
    {
      "cell_type": "code",
      "metadata": {
        "colab": {
          "base_uri": "https://localhost:8080/"
        },
        "id": "yW4AZnujzo1w",
        "outputId": "71561003-2991-4dd5-d6fe-e755469ea368"
      },
      "source": [
        "#What are the column names in the dataset?\n",
        "cars.columns"
      ],
      "execution_count": null,
      "outputs": [
        {
          "output_type": "execute_result",
          "data": {
            "text/plain": [
              "Index(['Make', 'Model', 'Price', 'Type', 'ABS', 'BootSpace', 'GearType',\n",
              "       'AirBag', 'Engine', 'FuelCapacity', 'Mileage'],\n",
              "      dtype='object')"
            ]
          },
          "metadata": {
            "tags": []
          },
          "execution_count": 8
        }
      ]
    },
    {
      "cell_type": "code",
      "metadata": {
        "colab": {
          "base_uri": "https://localhost:8080/"
        },
        "id": "3Yd47oovzo1x",
        "outputId": "dc61ae63-a08a-469f-c0f6-a10461535e50"
      },
      "source": [
        "#What are the types of those columns ? \n",
        "cars.dtypes"
      ],
      "execution_count": null,
      "outputs": [
        {
          "output_type": "execute_result",
          "data": {
            "text/plain": [
              "Make             object\n",
              "Model            object\n",
              "Price             int64\n",
              "Type             object\n",
              "ABS              object\n",
              "BootSpace       float64\n",
              "GearType         object\n",
              "AirBag           object\n",
              "Engine          float64\n",
              "FuelCapacity    float64\n",
              "Mileage         float64\n",
              "dtype: object"
            ]
          },
          "metadata": {
            "tags": []
          },
          "execution_count": 9
        }
      ]
    },
    {
      "cell_type": "code",
      "metadata": {
        "colab": {
          "base_uri": "https://localhost:8080/",
          "height": 289
        },
        "id": "Ybs_cS-kzo1x",
        "outputId": "691b3522-a474-43c7-955b-25249f76d5aa"
      },
      "source": [
        "cars.head()"
      ],
      "execution_count": null,
      "outputs": [
        {
          "output_type": "execute_result",
          "data": {
            "text/html": [
              "<div>\n",
              "<style scoped>\n",
              "    .dataframe tbody tr th:only-of-type {\n",
              "        vertical-align: middle;\n",
              "    }\n",
              "\n",
              "    .dataframe tbody tr th {\n",
              "        vertical-align: top;\n",
              "    }\n",
              "\n",
              "    .dataframe thead th {\n",
              "        text-align: right;\n",
              "    }\n",
              "</style>\n",
              "<table border=\"1\" class=\"dataframe\">\n",
              "  <thead>\n",
              "    <tr style=\"text-align: right;\">\n",
              "      <th></th>\n",
              "      <th>Make</th>\n",
              "      <th>Model</th>\n",
              "      <th>Price</th>\n",
              "      <th>Type</th>\n",
              "      <th>ABS</th>\n",
              "      <th>BootSpace</th>\n",
              "      <th>GearType</th>\n",
              "      <th>AirBag</th>\n",
              "      <th>Engine</th>\n",
              "      <th>FuelCapacity</th>\n",
              "      <th>Mileage</th>\n",
              "    </tr>\n",
              "  </thead>\n",
              "  <tbody>\n",
              "    <tr>\n",
              "      <th>0</th>\n",
              "      <td>Ashok Leyland Stile</td>\n",
              "      <td>Ashok Leyland Stile LE 8-STR (Diesel)</td>\n",
              "      <td>750</td>\n",
              "      <td>MPV</td>\n",
              "      <td>No</td>\n",
              "      <td>500.0</td>\n",
              "      <td>Manual</td>\n",
              "      <td>No</td>\n",
              "      <td>1461.0</td>\n",
              "      <td>50.0</td>\n",
              "      <td>20.7</td>\n",
              "    </tr>\n",
              "    <tr>\n",
              "      <th>1</th>\n",
              "      <td>Ashok Leyland Stile</td>\n",
              "      <td>Ashok Leyland Stile LS 8-STR (Diesel)</td>\n",
              "      <td>800</td>\n",
              "      <td>MPV</td>\n",
              "      <td>No</td>\n",
              "      <td>500.0</td>\n",
              "      <td>Manual</td>\n",
              "      <td>No</td>\n",
              "      <td>1461.0</td>\n",
              "      <td>50.0</td>\n",
              "      <td>20.7</td>\n",
              "    </tr>\n",
              "    <tr>\n",
              "      <th>2</th>\n",
              "      <td>Ashok Leyland Stile</td>\n",
              "      <td>Ashok Leyland Stile LX 8-STR (Diesel)</td>\n",
              "      <td>830</td>\n",
              "      <td>MPV</td>\n",
              "      <td>No</td>\n",
              "      <td>500.0</td>\n",
              "      <td>Manual</td>\n",
              "      <td>No</td>\n",
              "      <td>1461.0</td>\n",
              "      <td>50.0</td>\n",
              "      <td>20.7</td>\n",
              "    </tr>\n",
              "    <tr>\n",
              "      <th>3</th>\n",
              "      <td>Ashok Leyland Stile</td>\n",
              "      <td>Ashok Leyland Stile LS 7-STR (Diesel)</td>\n",
              "      <td>850</td>\n",
              "      <td>MPV</td>\n",
              "      <td>No</td>\n",
              "      <td>500.0</td>\n",
              "      <td>Manual</td>\n",
              "      <td>No</td>\n",
              "      <td>1461.0</td>\n",
              "      <td>50.0</td>\n",
              "      <td>20.7</td>\n",
              "    </tr>\n",
              "    <tr>\n",
              "      <th>4</th>\n",
              "      <td>Ashok Leyland Stile</td>\n",
              "      <td>Ashok Leyland Stile LS 7-STR Alloy (Diesel)</td>\n",
              "      <td>880</td>\n",
              "      <td>MPV</td>\n",
              "      <td>No</td>\n",
              "      <td>500.0</td>\n",
              "      <td>Manual</td>\n",
              "      <td>No</td>\n",
              "      <td>1461.0</td>\n",
              "      <td>50.0</td>\n",
              "      <td>20.7</td>\n",
              "    </tr>\n",
              "  </tbody>\n",
              "</table>\n",
              "</div>"
            ],
            "text/plain": [
              "                  Make  ... Mileage\n",
              "0  Ashok Leyland Stile  ...    20.7\n",
              "1  Ashok Leyland Stile  ...    20.7\n",
              "2  Ashok Leyland Stile  ...    20.7\n",
              "3  Ashok Leyland Stile  ...    20.7\n",
              "4  Ashok Leyland Stile  ...    20.7\n",
              "\n",
              "[5 rows x 11 columns]"
            ]
          },
          "metadata": {
            "tags": []
          },
          "execution_count": 10
        }
      ]
    },
    {
      "cell_type": "code",
      "metadata": {
        "colab": {
          "base_uri": "https://localhost:8080/"
        },
        "id": "h8Qn-Tlfzo1y",
        "outputId": "9d33b1c0-9a14-40c8-997f-542729e5a059"
      },
      "source": [
        "#How to check if there are null values in any of the columns?\n",
        "\n",
        "#Hint: use the isnull() function  (how about using sum or values/any with it?)\n",
        "cars.isnull().sum()"
      ],
      "execution_count": null,
      "outputs": [
        {
          "output_type": "execute_result",
          "data": {
            "text/plain": [
              "Make              0\n",
              "Model             0\n",
              "Price             0\n",
              "Type              0\n",
              "ABS              16\n",
              "BootSpace       179\n",
              "GearType         16\n",
              "AirBag           21\n",
              "Engine            7\n",
              "FuelCapacity      0\n",
              "Mileage         171\n",
              "dtype: int64"
            ]
          },
          "metadata": {
            "tags": []
          },
          "execution_count": 11
        }
      ]
    },
    {
      "cell_type": "markdown",
      "metadata": {
        "id": "NYU98u6Nzo1z"
      },
      "source": [
        "**How to handle missing values?**"
      ]
    },
    {
      "cell_type": "code",
      "metadata": {
        "id": "mLbemhl3zo10"
      },
      "source": [
        "#fillna function\n"
      ],
      "execution_count": null,
      "outputs": []
    },
    {
      "cell_type": "markdown",
      "metadata": {
        "id": "TQJN4UF2zo11"
      },
      "source": [
        "# Mean, Median, Variance, Standard Deviation"
      ]
    },
    {
      "cell_type": "markdown",
      "metadata": {
        "id": "LNdvEgSQzo11"
      },
      "source": [
        "#### Mean\n",
        "\n",
        "arithmetic average of a range of values or quantities, computed by dividing the total of all values by the number of values."
      ]
    },
    {
      "cell_type": "code",
      "metadata": {
        "colab": {
          "base_uri": "https://localhost:8080/"
        },
        "id": "jUHE1-Dizo12",
        "outputId": "bd8c4a20-9628-445b-d05d-36b4c7bbbe52"
      },
      "source": [
        "#Find mean of price\n",
        "cars.Price.mean()"
      ],
      "execution_count": null,
      "outputs": [
        {
          "output_type": "execute_result",
          "data": {
            "text/plain": [
              "3159.4957983193276"
            ]
          },
          "metadata": {
            "tags": []
          },
          "execution_count": 12
        }
      ]
    },
    {
      "cell_type": "code",
      "metadata": {
        "colab": {
          "base_uri": "https://localhost:8080/"
        },
        "id": "MF6ZpLM3zo12",
        "outputId": "2b917338-39df-4209-8153-b74ea712d142"
      },
      "source": [
        "#Find mean of Mileage\n",
        "cars.Mileage.mean()"
      ],
      "execution_count": null,
      "outputs": [
        {
          "output_type": "execute_result",
          "data": {
            "text/plain": [
              "17.480407854984882"
            ]
          },
          "metadata": {
            "tags": []
          },
          "execution_count": 13
        }
      ]
    },
    {
      "cell_type": "markdown",
      "metadata": {
        "id": "axnhnLQBzo13"
      },
      "source": [
        "Let's do something fancier.\n",
        "Let's find mean mileage of every make. \n",
        "\n",
        "*Hint*: need to use `groupby`"
      ]
    },
    {
      "cell_type": "code",
      "metadata": {
        "colab": {
          "base_uri": "https://localhost:8080/",
          "height": 415
        },
        "id": "MCR6TJguzo13",
        "outputId": "d4a289f6-3095-44bb-e395-4c11a7622543"
      },
      "source": [
        "#cars.groupby('Make') : Finish the code\n",
        "cars.groupby('Make').Mileage.mean().reset_index()"
      ],
      "execution_count": null,
      "outputs": [
        {
          "output_type": "execute_result",
          "data": {
            "text/html": [
              "<div>\n",
              "<style scoped>\n",
              "    .dataframe tbody tr th:only-of-type {\n",
              "        vertical-align: middle;\n",
              "    }\n",
              "\n",
              "    .dataframe tbody tr th {\n",
              "        vertical-align: top;\n",
              "    }\n",
              "\n",
              "    .dataframe thead th {\n",
              "        text-align: right;\n",
              "    }\n",
              "</style>\n",
              "<table border=\"1\" class=\"dataframe\">\n",
              "  <thead>\n",
              "    <tr style=\"text-align: right;\">\n",
              "      <th></th>\n",
              "      <th>Make</th>\n",
              "      <th>Mileage</th>\n",
              "    </tr>\n",
              "  </thead>\n",
              "  <tbody>\n",
              "    <tr>\n",
              "      <th>0</th>\n",
              "      <td>Ashok Leyland Stile</td>\n",
              "      <td>20.700000</td>\n",
              "    </tr>\n",
              "    <tr>\n",
              "      <th>1</th>\n",
              "      <td>Aston Martin Rapide</td>\n",
              "      <td>7.000000</td>\n",
              "    </tr>\n",
              "    <tr>\n",
              "      <th>2</th>\n",
              "      <td>Aston Martin Rapide S</td>\n",
              "      <td>11.900000</td>\n",
              "    </tr>\n",
              "    <tr>\n",
              "      <th>3</th>\n",
              "      <td>Aston Martin V12 Vantage</td>\n",
              "      <td>9.000000</td>\n",
              "    </tr>\n",
              "    <tr>\n",
              "      <th>4</th>\n",
              "      <td>Aston Martin V8 Vantage</td>\n",
              "      <td>5.000000</td>\n",
              "    </tr>\n",
              "    <tr>\n",
              "      <th>...</th>\n",
              "      <td>...</td>\n",
              "      <td>...</td>\n",
              "    </tr>\n",
              "    <tr>\n",
              "      <th>198</th>\n",
              "      <td>Volvo S60</td>\n",
              "      <td>19.133333</td>\n",
              "    </tr>\n",
              "    <tr>\n",
              "      <th>199</th>\n",
              "      <td>Volvo S80</td>\n",
              "      <td>16.660000</td>\n",
              "    </tr>\n",
              "    <tr>\n",
              "      <th>200</th>\n",
              "      <td>Volvo V40</td>\n",
              "      <td>27.800000</td>\n",
              "    </tr>\n",
              "    <tr>\n",
              "      <th>201</th>\n",
              "      <td>Volvo V40 Cross Country</td>\n",
              "      <td>16.400000</td>\n",
              "    </tr>\n",
              "    <tr>\n",
              "      <th>202</th>\n",
              "      <td>Volvo XC90</td>\n",
              "      <td>11.100000</td>\n",
              "    </tr>\n",
              "  </tbody>\n",
              "</table>\n",
              "<p>203 rows × 2 columns</p>\n",
              "</div>"
            ],
            "text/plain": [
              "                         Make    Mileage\n",
              "0         Ashok Leyland Stile  20.700000\n",
              "1         Aston Martin Rapide   7.000000\n",
              "2       Aston Martin Rapide S  11.900000\n",
              "3    Aston Martin V12 Vantage   9.000000\n",
              "4     Aston Martin V8 Vantage   5.000000\n",
              "..                        ...        ...\n",
              "198                 Volvo S60  19.133333\n",
              "199                 Volvo S80  16.660000\n",
              "200                 Volvo V40  27.800000\n",
              "201   Volvo V40 Cross Country  16.400000\n",
              "202                Volvo XC90  11.100000\n",
              "\n",
              "[203 rows x 2 columns]"
            ]
          },
          "metadata": {
            "tags": []
          },
          "execution_count": 14
        }
      ]
    },
    {
      "cell_type": "markdown",
      "metadata": {
        "id": "Q46drV-azo14"
      },
      "source": [
        "### Exercise\n",
        "\n",
        "**How about finding the average mileage for every `Type-GearType` combination?**"
      ]
    },
    {
      "cell_type": "code",
      "metadata": {
        "id": "jabIp_R3zo14",
        "outputId": "a97e1627-392d-4b1d-c45b-ddb3c02bd113"
      },
      "source": [
        ""
      ],
      "execution_count": null,
      "outputs": [
        {
          "output_type": "execute_result",
          "data": {
            "text/html": [
              "<div>\n",
              "<table border=\"1\" class=\"dataframe\">\n",
              "  <thead>\n",
              "    <tr style=\"text-align: right;\">\n",
              "      <th></th>\n",
              "      <th>Type</th>\n",
              "      <th>GearType</th>\n",
              "      <th>Mileage</th>\n",
              "    </tr>\n",
              "  </thead>\n",
              "  <tbody>\n",
              "    <tr>\n",
              "      <th>0</th>\n",
              "      <td>Convertible</td>\n",
              "      <td>Automatic</td>\n",
              "      <td>12.147143</td>\n",
              "    </tr>\n",
              "    <tr>\n",
              "      <th>1</th>\n",
              "      <td>Coupe</td>\n",
              "      <td>Automatic</td>\n",
              "      <td>9.746071</td>\n",
              "    </tr>\n",
              "    <tr>\n",
              "      <th>2</th>\n",
              "      <td>Hatchback</td>\n",
              "      <td>Automatic</td>\n",
              "      <td>19.446111</td>\n",
              "    </tr>\n",
              "    <tr>\n",
              "      <th>3</th>\n",
              "      <td>Hatchback</td>\n",
              "      <td>Manual</td>\n",
              "      <td>20.804878</td>\n",
              "    </tr>\n",
              "    <tr>\n",
              "      <th>4</th>\n",
              "      <td>Hatchback</td>\n",
              "      <td>No</td>\n",
              "      <td>21.748000</td>\n",
              "    </tr>\n",
              "    <tr>\n",
              "      <th>5</th>\n",
              "      <td>MPV</td>\n",
              "      <td>Automatic</td>\n",
              "      <td>20.434286</td>\n",
              "    </tr>\n",
              "    <tr>\n",
              "      <th>6</th>\n",
              "      <td>MPV</td>\n",
              "      <td>Manual</td>\n",
              "      <td>18.825862</td>\n",
              "    </tr>\n",
              "    <tr>\n",
              "      <th>7</th>\n",
              "      <td>MUV</td>\n",
              "      <td>Automatic</td>\n",
              "      <td>12.466667</td>\n",
              "    </tr>\n",
              "    <tr>\n",
              "      <th>8</th>\n",
              "      <td>MUV</td>\n",
              "      <td>Manual</td>\n",
              "      <td>15.634091</td>\n",
              "    </tr>\n",
              "    <tr>\n",
              "      <th>9</th>\n",
              "      <td>MUV</td>\n",
              "      <td>No</td>\n",
              "      <td>13.912000</td>\n",
              "    </tr>\n",
              "    <tr>\n",
              "      <th>10</th>\n",
              "      <td>SUV</td>\n",
              "      <td>Automatic</td>\n",
              "      <td>14.603176</td>\n",
              "    </tr>\n",
              "    <tr>\n",
              "      <th>11</th>\n",
              "      <td>SUV</td>\n",
              "      <td>Manual</td>\n",
              "      <td>15.772308</td>\n",
              "    </tr>\n",
              "    <tr>\n",
              "      <th>12</th>\n",
              "      <td>SUV</td>\n",
              "      <td>No</td>\n",
              "      <td>11.973333</td>\n",
              "    </tr>\n",
              "    <tr>\n",
              "      <th>13</th>\n",
              "      <td>Sedan</td>\n",
              "      <td>Automatic</td>\n",
              "      <td>16.670000</td>\n",
              "    </tr>\n",
              "    <tr>\n",
              "      <th>14</th>\n",
              "      <td>Sedan</td>\n",
              "      <td>Manual</td>\n",
              "      <td>20.143626</td>\n",
              "    </tr>\n",
              "    <tr>\n",
              "      <th>15</th>\n",
              "      <td>Sedan</td>\n",
              "      <td>No</td>\n",
              "      <td>19.500000</td>\n",
              "    </tr>\n",
              "  </tbody>\n",
              "</table>\n",
              "</div>"
            ],
            "text/plain": [
              "           Type    GearType    Mileage\n",
              "0   Convertible   Automatic  12.147143\n",
              "1         Coupe   Automatic   9.746071\n",
              "2     Hatchback   Automatic  19.446111\n",
              "3     Hatchback      Manual  20.804878\n",
              "4     Hatchback          No  21.748000\n",
              "5           MPV   Automatic  20.434286\n",
              "6           MPV      Manual  18.825862\n",
              "7           MUV   Automatic  12.466667\n",
              "8           MUV      Manual  15.634091\n",
              "9           MUV          No  13.912000\n",
              "10          SUV   Automatic  14.603176\n",
              "11          SUV      Manual  15.772308\n",
              "12          SUV          No  11.973333\n",
              "13        Sedan   Automatic  16.670000\n",
              "14        Sedan      Manual  20.143626\n",
              "15        Sedan          No  19.500000"
            ]
          },
          "metadata": {
            "tags": []
          },
          "execution_count": 46
        }
      ]
    },
    {
      "cell_type": "markdown",
      "metadata": {
        "id": "9XQX8T7Jzo15"
      },
      "source": [
        "#### Median\n",
        "\n",
        "Denotes value or quantity lying at the midpoint of a frequency distribution of observed values or quantities, such that there is an equal probability of falling above or below it. Simply put, it is the *middle* value in the list of numbers."
      ]
    },
    {
      "cell_type": "markdown",
      "metadata": {
        "id": "h3Z61-bszo16"
      },
      "source": [
        "If count is odd, the median is the value at (n+1)/2,\n",
        "\n",
        "else it is the average of n/2 and (n+1)/2"
      ]
    },
    {
      "cell_type": "markdown",
      "metadata": {
        "collapsed": false,
        "id": "P9XzRV6lzo16"
      },
      "source": [
        "**Find median of mileage**"
      ]
    },
    {
      "cell_type": "code",
      "metadata": {
        "id": "4qQGHblvzo16",
        "outputId": "5e599737-52a0-4572-f6c7-c9dc7ba2e017"
      },
      "source": [
        "cars.Mileage.median()"
      ],
      "execution_count": null,
      "outputs": [
        {
          "output_type": "execute_result",
          "data": {
            "text/plain": [
              "17.985"
            ]
          },
          "metadata": {
            "tags": []
          },
          "execution_count": 24
        }
      ]
    },
    {
      "cell_type": "markdown",
      "metadata": {
        "id": "vVfYszilzo17"
      },
      "source": [
        "#### Mode\n",
        "\n",
        "It is the number which appears most often in a set of numbers. "
      ]
    },
    {
      "cell_type": "markdown",
      "metadata": {
        "id": "1oW5Q9gxzo17"
      },
      "source": [
        "**Find the mode of `Type` of cars**"
      ]
    },
    {
      "cell_type": "code",
      "metadata": {
        "collapsed": true,
        "id": "puRS2Anfzo18"
      },
      "source": [
        "#Let's first find count of each of the car Types\n",
        "#Hint: use value_counts"
      ],
      "execution_count": null,
      "outputs": []
    },
    {
      "cell_type": "code",
      "metadata": {
        "id": "36K-YRF6zo18",
        "outputId": "f2d84c2c-313b-46ab-cbf5-5b57a6516d04"
      },
      "source": [
        "cars.Type.value_counts()"
      ],
      "execution_count": null,
      "outputs": [
        {
          "output_type": "execute_result",
          "data": {
            "text/plain": [
              "Sedan          294\n",
              "Hatchback      222\n",
              "SUV            186\n",
              "MPV             47\n",
              "MUV             40\n",
              "Coupe           33\n",
              "Convertible     11\n",
              "Name: Type, dtype: int64"
            ]
          },
          "metadata": {
            "tags": []
          },
          "execution_count": 26
        }
      ]
    },
    {
      "cell_type": "code",
      "metadata": {
        "collapsed": true,
        "id": "zT-OvSvyzo18"
      },
      "source": [
        "#Mode of cars"
      ],
      "execution_count": null,
      "outputs": []
    },
    {
      "cell_type": "code",
      "metadata": {
        "id": "RyLnqSnJzo19",
        "outputId": "7f502757-6e4a-4d63-e456-6072c469bf64"
      },
      "source": [
        "cars.Type"
      ],
      "execution_count": null,
      "outputs": [
        {
          "output_type": "execute_result",
          "data": {
            "text/plain": [
              "0              MPV\n",
              "1              MPV\n",
              "2              MPV\n",
              "3              MPV\n",
              "4              MPV\n",
              "5              MPV\n",
              "6              MPV\n",
              "7            Sedan\n",
              "8            Sedan\n",
              "9            Coupe\n",
              "10           Coupe\n",
              "11           Coupe\n",
              "12           Coupe\n",
              "13           Sedan\n",
              "14           Sedan\n",
              "15           Sedan\n",
              "16           Sedan\n",
              "17           Sedan\n",
              "18           Sedan\n",
              "19     Convertible\n",
              "20           Sedan\n",
              "21           Sedan\n",
              "22           Sedan\n",
              "23           Sedan\n",
              "24           Sedan\n",
              "25           Sedan\n",
              "26           Sedan\n",
              "27           Sedan\n",
              "28           Sedan\n",
              "29           Sedan\n",
              "          ...     \n",
              "803      Hatchback\n",
              "804      Hatchback\n",
              "805      Hatchback\n",
              "806      Hatchback\n",
              "807      Hatchback\n",
              "808      Hatchback\n",
              "809            SUV\n",
              "810      Hatchback\n",
              "811          Sedan\n",
              "812          Sedan\n",
              "813          Sedan\n",
              "814          Sedan\n",
              "815          Sedan\n",
              "816          Sedan\n",
              "817          Sedan\n",
              "818          Sedan\n",
              "819          Sedan\n",
              "820          Sedan\n",
              "821          Sedan\n",
              "822          Sedan\n",
              "823          Sedan\n",
              "824          Sedan\n",
              "825          Sedan\n",
              "826          Sedan\n",
              "827      Hatchback\n",
              "828      Hatchback\n",
              "829      Hatchback\n",
              "830      Hatchback\n",
              "831            SUV\n",
              "832            SUV\n",
              "Name: Type, dtype: object"
            ]
          },
          "metadata": {
            "tags": []
          },
          "execution_count": 30
        }
      ]
    },
    {
      "cell_type": "code",
      "metadata": {
        "id": "rRmc_0Tlzo19",
        "outputId": "8d3e1ba7-cedd-46b2-a203-11a213dd32c9"
      },
      "source": [
        "cars.Type.mode()"
      ],
      "execution_count": null,
      "outputs": [
        {
          "output_type": "execute_result",
          "data": {
            "text/plain": [
              "0    Sedan\n",
              "dtype: object"
            ]
          },
          "metadata": {
            "tags": []
          },
          "execution_count": 28
        }
      ]
    },
    {
      "cell_type": "code",
      "metadata": {
        "id": "GRJsyfr_zo19",
        "outputId": "66d8a60d-b9b5-488e-96c1-05a5a47f72c9"
      },
      "source": [
        "cars.head()"
      ],
      "execution_count": null,
      "outputs": [
        {
          "output_type": "execute_result",
          "data": {
            "text/html": [
              "<div>\n",
              "<table border=\"1\" class=\"dataframe\">\n",
              "  <thead>\n",
              "    <tr style=\"text-align: right;\">\n",
              "      <th></th>\n",
              "      <th>Make</th>\n",
              "      <th>Model</th>\n",
              "      <th>Price</th>\n",
              "      <th>Type</th>\n",
              "      <th>ABS</th>\n",
              "      <th>BootSpace</th>\n",
              "      <th>GearType</th>\n",
              "      <th>AirBag</th>\n",
              "      <th>Engine</th>\n",
              "      <th>FuelCapacity</th>\n",
              "      <th>Mileage</th>\n",
              "    </tr>\n",
              "  </thead>\n",
              "  <tbody>\n",
              "    <tr>\n",
              "      <th>0</th>\n",
              "      <td>Ashok Leyland Stile</td>\n",
              "      <td>Ashok Leyland Stile LE 8-STR (Diesel)</td>\n",
              "      <td>750</td>\n",
              "      <td>MPV</td>\n",
              "      <td>No</td>\n",
              "      <td>500.0</td>\n",
              "      <td>Manual</td>\n",
              "      <td>No</td>\n",
              "      <td>1461.0</td>\n",
              "      <td>50.0</td>\n",
              "      <td>20.7</td>\n",
              "    </tr>\n",
              "    <tr>\n",
              "      <th>1</th>\n",
              "      <td>Ashok Leyland Stile</td>\n",
              "      <td>Ashok Leyland Stile LS 8-STR (Diesel)</td>\n",
              "      <td>800</td>\n",
              "      <td>MPV</td>\n",
              "      <td>No</td>\n",
              "      <td>500.0</td>\n",
              "      <td>Manual</td>\n",
              "      <td>No</td>\n",
              "      <td>1461.0</td>\n",
              "      <td>50.0</td>\n",
              "      <td>20.7</td>\n",
              "    </tr>\n",
              "    <tr>\n",
              "      <th>2</th>\n",
              "      <td>Ashok Leyland Stile</td>\n",
              "      <td>Ashok Leyland Stile LX 8-STR (Diesel)</td>\n",
              "      <td>830</td>\n",
              "      <td>MPV</td>\n",
              "      <td>No</td>\n",
              "      <td>500.0</td>\n",
              "      <td>Manual</td>\n",
              "      <td>No</td>\n",
              "      <td>1461.0</td>\n",
              "      <td>50.0</td>\n",
              "      <td>20.7</td>\n",
              "    </tr>\n",
              "    <tr>\n",
              "      <th>3</th>\n",
              "      <td>Ashok Leyland Stile</td>\n",
              "      <td>Ashok Leyland Stile LS 7-STR (Diesel)</td>\n",
              "      <td>850</td>\n",
              "      <td>MPV</td>\n",
              "      <td>No</td>\n",
              "      <td>500.0</td>\n",
              "      <td>Manual</td>\n",
              "      <td>No</td>\n",
              "      <td>1461.0</td>\n",
              "      <td>50.0</td>\n",
              "      <td>20.7</td>\n",
              "    </tr>\n",
              "    <tr>\n",
              "      <th>4</th>\n",
              "      <td>Ashok Leyland Stile</td>\n",
              "      <td>Ashok Leyland Stile LS 7-STR Alloy (Diesel)</td>\n",
              "      <td>880</td>\n",
              "      <td>MPV</td>\n",
              "      <td>No</td>\n",
              "      <td>500.0</td>\n",
              "      <td>Manual</td>\n",
              "      <td>No</td>\n",
              "      <td>1461.0</td>\n",
              "      <td>50.0</td>\n",
              "      <td>20.7</td>\n",
              "    </tr>\n",
              "  </tbody>\n",
              "</table>\n",
              "</div>"
            ],
            "text/plain": [
              "                  Make                                        Model  Price  \\\n",
              "0  Ashok Leyland Stile        Ashok Leyland Stile LE 8-STR (Diesel)    750   \n",
              "1  Ashok Leyland Stile        Ashok Leyland Stile LS 8-STR (Diesel)    800   \n",
              "2  Ashok Leyland Stile        Ashok Leyland Stile LX 8-STR (Diesel)    830   \n",
              "3  Ashok Leyland Stile        Ashok Leyland Stile LS 7-STR (Diesel)    850   \n",
              "4  Ashok Leyland Stile  Ashok Leyland Stile LS 7-STR Alloy (Diesel)    880   \n",
              "\n",
              "  Type  ABS  BootSpace GearType AirBag  Engine  FuelCapacity  Mileage  \n",
              "0  MPV   No      500.0   Manual     No  1461.0          50.0     20.7  \n",
              "1  MPV   No      500.0   Manual     No  1461.0          50.0     20.7  \n",
              "2  MPV   No      500.0   Manual     No  1461.0          50.0     20.7  \n",
              "3  MPV   No      500.0   Manual     No  1461.0          50.0     20.7  \n",
              "4  MPV   No      500.0   Manual     No  1461.0          50.0     20.7  "
            ]
          },
          "metadata": {
            "tags": []
          },
          "execution_count": 29
        }
      ]
    },
    {
      "cell_type": "markdown",
      "metadata": {
        "id": "XMtZo4k2zo1-"
      },
      "source": [
        "#### Variance\n",
        "\n",
        "> Once two statistician of height 4 feet and 5 feet have to cross a river of AVERAGE depth 3 feet. Meanwhile, a third person comes and said, \"what are you waiting for? You can easily cross the river\"\n",
        "\n",
        "It's the average distance of the data values from the *mean*\n",
        "\n",
        "\n",
        "![variance.png](data:image/png;base64,iVBORw0KGgoAAAANSUhEUgAAAeYAAABoCAMAAAATgKPhAAABOFBMVEX///8AAAAwMDCGhoaqqqpTU1Py8vJubm63t7fZ2dkqK0Jzc3Pm5uYbGxtfX19aWloUFBRlZWW/v7+hoaElJSXw6+SxsbH39/fc3Nw1NTWRkZGWlpa9vb3Ozs66sK6PlJyqnY6irbdCQkJGRkYXFxczMzN9fX2JiYkLCwvR1tuPmqVFRUV0hpWflIfv8/YUAABgZ3PHwbtANCiPgXgADh8AFydRSUI3Okm7tKvh5Ony9fhLU1p9cWlWa3s6Nzzf2dMiCQBpYlpCNDAxQlRdUUJzZWHEzdcnJSEAGTEyKzBOXmyFeWqeoKyrpZ5cYWYbEwgYKDMgIjB2d4IfIDsFDRgsIhVYSlQ6LCQjMTxPQjsACiJQPi6CfIaVioYHGThRQT4eOVAcFCYmFwA8Q049Kw9GNyM7Myloe4qPOO8wAAAMG0lEQVR4nO2dfWPaRhLGGV4EHOJFIFgExnVlB9OkPoc4dWnjC3Hr9NprSN1ec8k19fUuuUu+/ze4md3Vu7CFMHYI+/vDkcRqBXp2Zmd2V0omo1AoFAqFQqFQKBQKhUKhUCgUa8WkUP/kz7f9JRQpaO0W5rHbCpV9/co4hl8/u5XvqViKjlGch1EKFr14hn9a8OrrW/miihvid/73FLZu+XsoVgrjf2fQueXvobgBJvDdbX+FTUNraSutfztG0YvvV3rJjaREdDxKpabv0/EvWkbL5zslUSzfpYNdsd/JJ4yIx875pbzwxh1+oJPP43brl0j5F58u+6MUYc4A2e855AD+7X14cZ/+ssEpcH5h8viY9j5h0dpiYawnzj8vOweOce/RZ7yCyX9CefLkb0v8HEU87CXe8We+A+/+5W4efetsDUilL71CZ/B4saTnD6rA8xNTADeXmkFA5/YPC1WsSMaUBPD1kG1wtmbwlXuU6+w66fbhq0UvQzp7/vkIfBnz6W9+nW01CLYStlGAXz1BM2fyPo/hva/UBEvdd3ZOfQ0gIeyFr52M4XPfR1Ov4kzmH0rlFXEUdMgX4kajNw9oSf2zjI0u0mQ85DXeis02PAp8dAJu0PV04fajSMpxwKFOhM0dhLRoPwF4yEUYw900VzmgsI1vvT4PduxjOJc2LFTWlNirQHvhWap77DAs5li6bR1ShsL/lG77BEKZWPuFCAJ5AE68jzlbsTThMCxD8VdYDJSHGgML2+JCV3nLsJeP5MUFMVvRLTU5W3q6CyiuAEWFnwPBzzF8Efac2hty2xFbTA657bvTGFs9CjcyxWr4ERXw+2K0vLcRoyW3nY3aYnLQKTd+ehsdVpn4YwPF6uDd4ife/gz8WY7DCcQeTsw0kH17YPtRc8w3AoZB/iGLo9g4SHuAvn2ZKHiH3Hb0MMmv+uMbYRa4/5glfx5T6OmS5jyIN+fpYayRK66d6WGgd3wda3UzsKOpF6GVI8RZZ/uFNeLRdvj4m9haFddN++Vz/y77b5zMY7jrDZIE2IEIcbnv2fnXR8EYQKC9UzLfBOz4VSCdIpkj97395H5obNtlXKyEKMbIdoSemT2IcdtK5sRMbPt56v7txD9+rekZ9r+YvvmMD0mexrvtBIz5eWNvbNul/VLJnIzTV8NK6nt1EBidmH3HVxuEZZbjIuS2f0szjTSVuXGM26a+WY2PJGBCa18xjk2V7YSGHx98xTPk93MKxbvtK2EPXjG5EXHbJLOarUjAPv97EY1uEjAOnrVD6woOIDRBMfXGqdK57aeukOPgxCdSBvhezTMnZppG5nZgoHFcgb/zmsD2F2JPvP50GlqHkIgd3xp7GkwLdAko/KPIGYp5TFNYGUa5jWAq9JcMX+xx7revB36nehATRV3BzN+W2j+FJsR2gsvRFJezDYuPDP8RyXi5Rzjy95/6G/jWdwofml5o0jk0BXUWGgw7UV3zIpwtvqzjNDqwwQ1r6vW/OjlZn59g4py3g6TXoNVm8MhzDhNxnb574HipEdRNY/zl1WXC5KMIwzpxbv2436Kjrb40uO2+LNfqz6kzSFucn+/LhqLLfTxfNpSpGtFeAHata1+n8MVNBb8zZcwLULxekzhIt7JvcdiDh2oWMjG/X7fjO314M+Y8Uc8zJ+dChLJJH2xKAPvmRnxp+1AlU4nJlZiGPL3OoWHtmzSDaotydhMXWWd0XUfjpQeQWVEmQ99eedIisJOVS6Cdpp6a0nTtGn3Xh8q0blp3HlcMGrTSBpLrjmUmvdXeyfIw5bgIa9WqYFrDcpqTe8acaECrGb7RgH0jH1uqFX41zgoREw6DJ3xscnWs2GDSNkudVis1goMsySlA+E1VDhbUvGsAxI8AGdBLcVEfWzXDT3H+GyHYk/vyu6xW5g8UG8wO9lllAyDe4i6lPlfmDoB7z1uwG1+oX1/yHTit4LBjY77ME2cy6ugymSf1Woj6R7FKY+Au+DXAWvz0+TJnwHuNkT2/1JLkR6Yfa77MMzgXG9PL5hAOoiPWcety1468O03aBRDdM+u6q0mZxtea8u6mKw9S5+MW8GQul7vBmiuuCQ+EYfvrpTp0ql/2ZLSgVUpEh3R5TY5e7jJvuxxQkidFPub/0G2A+3w6il3mtDQ9wkcxfV8C950KTa4yy2XJ++3yznQ3q/f2AN16plsAGBl4G5sw7FpYosZVdWTu00l2IJ4qu35iCBW8gUMTi+wV6CJa9l53F/DocMRP1w36rGpQed2ssQrumTJUaBZoR1xFr2EQ0TBShSE0GVj9dFOfSMHoaNcfHrF7AMMcZZV0M7ONOuwOUcJOA4ooTI1kxpgtt29DlXSWMtcBijn8EwioTNkENBMDMC0LI1EvOQgwsTLIZYo87sPvkM3R6TYZMtj38Jp3ZEiIna+dG1KT4A3HHGJr2Qv5jWTQyjkwlxK6YmY/aOrzo/w8/fhax0mn+nCHPB9KQ6ulLN7BMtSkgEe3SKMmakLu1oB6xpG5ByO6881gQN2Snf0WWAwtmjTM6CM6QUOj7DD02kLmXTCo3IC/OgdLjKiWIYwyvCehEmX6iI242GjrgeU4iZnxrra6RAq3lfuwuSwCGuyKn5/jHdtQxtstKGTcrAhNihsQyehoiXJ0HZlBjqX3ufQOmuzsDVLKkG8/2idJUeYi3xMyW6J2UVA0BOfsnKwxh62uw4VHnU3vTUqhhKpy6Sv2tBNvsccGoucN/vt9r6tj+zyAskS03AST3z8T5cRtUYTnvFzmptO/68GMRmTFuv/hPTaUMovGVPQn61qdyqPMojjJzCzfZEzB6RP2YegcS55Qcdp8Hccl8zs70AhxU7OLN0O5J7vjjF7q84hIyMwttymDZiGzDKArdLO5zOj3syKhCT6OKVpES7hkt14hs/DujszlTq9eBd63Y6sQPQyX2d8NVKEqrtLwnEZIZpgvc1dEzLQY9pJFkR9rQuWBZkRGUuG/zagEZS7wIkJmoRraVEXK3IKRe1MCUfCITt8VXqLGPy4aXOaRdNNCZs3mnw0LEZkdvy9rc/H3DQnZlsMcGHFnNy7e1n0G0KO7h0Ftr6lRojVXZmnNRZ81m/G197BIGe6QbNgt9KneVozMJoxaA0YtLEZmz5r3YJkB8G1nLvgUHi9RzZqy5w1Q9VAB3emhc/NllpoWqN92+mb5GEgzmNLqWHafh+xlxywrUZlLTlOLWjOTwUFmsFfEj2WX3B2keJnxtrNK7mQTX680dN2iXsVb2nVueWO+zKIhiFFSJ9IWwVEPzGDmVoCmzRUdyCiNQVTmPFT5TjnaN2NrE8lTDiV2RsnZKM3Y6bZckacdbuISZ0phhwPGBq0Rpbe6yFO1AvZgmXky08GySKyFzBgI0T+dyOxHBwqiH+2Kj3RMxAthmWWKVsYYbBiWGfeGjNdcpstbXR6Qm6msmadS05cPN3Ltq5514hqbPG4fwDJQ5D43v2yczFULslkQGbUcBaO4rVClca0gzE1fcli/qLfKc2J/34yHdw0bLJ4kdwMy81Z1ryobCY27YpY/SjM1rpe2tp5gZZ2Ni78kpXq2WjULMr7pWNVRdl/PFCxU2LC4zAOrwj+rWTQ8YmWK1T1b9JlDS5zWLJgNs9CM1N2369Ly8lRvT8vYNkZWBVt04j2Lm38vu9ewWxhxF7SMXrCFzLbNm4JeyTbMmgjEWM+q7t3JqdWrKQlO7VzqEpvkzVnM4OmVjpRdUiKuwtiaN2E104cAl1nxsaNkvhkGt/u2xq15YyGKa2R8zB+Ovz3KxvDqQoplYJN3mBL86ba/hmK1zAb0hLSS+eNnqmTeBNpK5k1AybwRKJnXi5L9KYbOs6z5fKHlqErmNWIwBHqj0PgnPjW0yMyYknl90J6N/4oyj+FRv48yL/K/LCuZ14ojgPoPZMbtw4XematkXiu8N7b+uND7F5XMa8WO+7a/7YWeA1AyrxVK5o1gnszUVYfxr0RUMq8V82TW3u1Vg+ydK5nXFuW0NwIl80agZN4IlMwbgZJ5I1AybwQn7v8Qug2LvF4QZf55Nd9Icf2M36Bc/MGg8jcw742WcRyB+k8g1wXWN4qVStHY11iLb9V6id4lN+33DCxd7Lc29bE+hUKhUCgUCoVCoVAoVsn/AWcOAUieRDAAAAAAAElFTkSuQmCC)"
      ]
    },
    {
      "cell_type": "markdown",
      "metadata": {
        "id": "zo9UjSClzo1-"
      },
      "source": [
        "**Find variance of mileage**"
      ]
    },
    {
      "cell_type": "code",
      "metadata": {
        "id": "FmkQLIiFzo1-",
        "outputId": "4a9047d8-4895-4373-dd82-ad6b99bb4614"
      },
      "source": [
        "cars.Mileage.var()"
      ],
      "execution_count": null,
      "outputs": [
        {
          "output_type": "execute_result",
          "data": {
            "text/plain": [
              "21.018811179847432"
            ]
          },
          "metadata": {
            "tags": []
          },
          "execution_count": 31
        }
      ]
    },
    {
      "cell_type": "markdown",
      "metadata": {
        "id": "v8_sCHI9zo1_"
      },
      "source": [
        "#### Standard Deviation\n",
        "\n",
        "It is the square root of variance. This will have the same units as the data and mean. "
      ]
    },
    {
      "cell_type": "markdown",
      "metadata": {
        "collapsed": false,
        "id": "sw9X07Rmzo1_"
      },
      "source": [
        "**Find standard deviation of mileage**"
      ]
    },
    {
      "cell_type": "code",
      "metadata": {
        "id": "quv5reshzo1_",
        "outputId": "01712f07-fa09-497e-881d-daee1c1d1353"
      },
      "source": [
        "cars.Mileage.std()"
      ],
      "execution_count": null,
      "outputs": [
        {
          "output_type": "execute_result",
          "data": {
            "text/plain": [
              "4.5846277035161132"
            ]
          },
          "metadata": {
            "tags": []
          },
          "execution_count": 32
        }
      ]
    },
    {
      "cell_type": "markdown",
      "metadata": {
        "id": "baf-tFMFzo1_"
      },
      "source": [
        "#### Using Pandas built-in function"
      ]
    },
    {
      "cell_type": "code",
      "metadata": {
        "id": "5x7pbhXCzo2A",
        "outputId": "c0ab021d-9860-425d-b386-1ce0570281be"
      },
      "source": [
        "cars.describe()"
      ],
      "execution_count": null,
      "outputs": [
        {
          "output_type": "stream",
          "text": [
            "/Users/amitkaps/miniconda3/lib/python3.5/site-packages/numpy/lib/function_base.py:3834: RuntimeWarning: Invalid value encountered in percentile\n",
            "  RuntimeWarning)\n"
          ],
          "name": "stderr"
        },
        {
          "output_type": "execute_result",
          "data": {
            "text/html": [
              "<div>\n",
              "<table border=\"1\" class=\"dataframe\">\n",
              "  <thead>\n",
              "    <tr style=\"text-align: right;\">\n",
              "      <th></th>\n",
              "      <th>Price</th>\n",
              "      <th>BootSpace</th>\n",
              "      <th>Engine</th>\n",
              "      <th>FuelCapacity</th>\n",
              "      <th>Mileage</th>\n",
              "    </tr>\n",
              "  </thead>\n",
              "  <tbody>\n",
              "    <tr>\n",
              "      <th>count</th>\n",
              "      <td>833.000000</td>\n",
              "      <td>654.000000</td>\n",
              "      <td>826.000000</td>\n",
              "      <td>833.000000</td>\n",
              "      <td>662.000000</td>\n",
              "    </tr>\n",
              "    <tr>\n",
              "      <th>mean</th>\n",
              "      <td>3159.495798</td>\n",
              "      <td>409.536697</td>\n",
              "      <td>1900.533898</td>\n",
              "      <td>51.341693</td>\n",
              "      <td>17.480408</td>\n",
              "    </tr>\n",
              "    <tr>\n",
              "      <th>std</th>\n",
              "      <td>6272.519112</td>\n",
              "      <td>175.351525</td>\n",
              "      <td>1065.149758</td>\n",
              "      <td>17.643132</td>\n",
              "      <td>4.584628</td>\n",
              "    </tr>\n",
              "    <tr>\n",
              "      <th>min</th>\n",
              "      <td>199.000000</td>\n",
              "      <td>80.000000</td>\n",
              "      <td>624.000000</td>\n",
              "      <td>0.000000</td>\n",
              "      <td>5.000000</td>\n",
              "    </tr>\n",
              "    <tr>\n",
              "      <th>25%</th>\n",
              "      <td>619.000000</td>\n",
              "      <td>NaN</td>\n",
              "      <td>NaN</td>\n",
              "      <td>42.000000</td>\n",
              "      <td>NaN</td>\n",
              "    </tr>\n",
              "    <tr>\n",
              "      <th>50%</th>\n",
              "      <td>880.000000</td>\n",
              "      <td>NaN</td>\n",
              "      <td>NaN</td>\n",
              "      <td>50.000000</td>\n",
              "      <td>NaN</td>\n",
              "    </tr>\n",
              "    <tr>\n",
              "      <th>75%</th>\n",
              "      <td>2329.000000</td>\n",
              "      <td>NaN</td>\n",
              "      <td>NaN</td>\n",
              "      <td>64.000000</td>\n",
              "      <td>NaN</td>\n",
              "    </tr>\n",
              "    <tr>\n",
              "      <th>max</th>\n",
              "      <td>50000.000000</td>\n",
              "      <td>1000.000000</td>\n",
              "      <td>6592.000000</td>\n",
              "      <td>120.000000</td>\n",
              "      <td>30.000000</td>\n",
              "    </tr>\n",
              "  </tbody>\n",
              "</table>\n",
              "</div>"
            ],
            "text/plain": [
              "              Price    BootSpace       Engine  FuelCapacity     Mileage\n",
              "count    833.000000   654.000000   826.000000    833.000000  662.000000\n",
              "mean    3159.495798   409.536697  1900.533898     51.341693   17.480408\n",
              "std     6272.519112   175.351525  1065.149758     17.643132    4.584628\n",
              "min      199.000000    80.000000   624.000000      0.000000    5.000000\n",
              "25%      619.000000          NaN          NaN     42.000000         NaN\n",
              "50%      880.000000          NaN          NaN     50.000000         NaN\n",
              "75%     2329.000000          NaN          NaN     64.000000         NaN\n",
              "max    50000.000000  1000.000000  6592.000000    120.000000   30.000000"
            ]
          },
          "metadata": {
            "tags": []
          },
          "execution_count": 33
        }
      ]
    },
    {
      "cell_type": "markdown",
      "metadata": {
        "id": "nA20tnj8zo2A"
      },
      "source": [
        "#### Co-variance \n",
        "\n",
        "covariance as a measure of the (average) co-variation between two variables, say x and y. Covariance describes both how far the variables are spread out, and the nature of their relationship, Covariance is a measure of how much two variables change together. Compare this to Variance, which is just the range over which one measure (or variable) varies.\n",
        "\n",
        "![covariance.png](data:image/png;base64,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)\n",
        "\n",
        "<br>\n",
        "<br>\n",
        "<br>\n",
        "<br>\n",
        "\n"
      ]
    },
    {
      "cell_type": "markdown",
      "metadata": {
        "id": "6EJmMmQkzo2A"
      },
      "source": [
        "#### Co-variance of mileage of Automatic and Manual Gear Type"
      ]
    },
    {
      "cell_type": "code",
      "metadata": {
        "id": "3plia6R3zo2B",
        "outputId": "354a40ed-b39b-4ced-f979-cb88640aaa5b"
      },
      "source": [
        "pd.unique(cars.GearType)"
      ],
      "execution_count": null,
      "outputs": [
        {
          "output_type": "execute_result",
          "data": {
            "text/plain": [
              "array([' Manual', ' Automatic', nan, ' No'], dtype=object)"
            ]
          },
          "metadata": {
            "tags": []
          },
          "execution_count": 34
        }
      ]
    },
    {
      "cell_type": "code",
      "metadata": {
        "collapsed": true,
        "id": "iI5qQ5bNzo2B"
      },
      "source": [
        "cars_Automatic = cars[cars.GearType==' Automatic'].copy().reset_index()"
      ],
      "execution_count": null,
      "outputs": []
    },
    {
      "cell_type": "code",
      "metadata": {
        "collapsed": true,
        "id": "L86th5Uazo2B"
      },
      "source": [
        "cars_Manual = cars[cars.GearType==' Manual'].copy().reset_index()"
      ],
      "execution_count": null,
      "outputs": []
    },
    {
      "cell_type": "code",
      "metadata": {
        "id": "7UvvYvj9zo2B",
        "outputId": "1b19c201-95f9-41e6-ea51-8010371b23da"
      },
      "source": [
        "cars_Automatic.head()"
      ],
      "execution_count": null,
      "outputs": [
        {
          "output_type": "execute_result",
          "data": {
            "text/html": [
              "<div>\n",
              "<table border=\"1\" class=\"dataframe\">\n",
              "  <thead>\n",
              "    <tr style=\"text-align: right;\">\n",
              "      <th></th>\n",
              "      <th>index</th>\n",
              "      <th>Make</th>\n",
              "      <th>Model</th>\n",
              "      <th>Price</th>\n",
              "      <th>Type</th>\n",
              "      <th>ABS</th>\n",
              "      <th>BootSpace</th>\n",
              "      <th>GearType</th>\n",
              "      <th>AirBag</th>\n",
              "      <th>Engine</th>\n",
              "      <th>FuelCapacity</th>\n",
              "      <th>Mileage</th>\n",
              "    </tr>\n",
              "  </thead>\n",
              "  <tbody>\n",
              "    <tr>\n",
              "      <th>0</th>\n",
              "      <td>7</td>\n",
              "      <td>Aston Martin Rapide</td>\n",
              "      <td>Aston Martin Rapide LUXE (Petrol)</td>\n",
              "      <td>35000</td>\n",
              "      <td>Sedan</td>\n",
              "      <td>Yes</td>\n",
              "      <td>300.0</td>\n",
              "      <td>Automatic</td>\n",
              "      <td>Yes</td>\n",
              "      <td>5935.0</td>\n",
              "      <td>90.5</td>\n",
              "      <td>7.0</td>\n",
              "    </tr>\n",
              "    <tr>\n",
              "      <th>1</th>\n",
              "      <td>8</td>\n",
              "      <td>Aston Martin Rapide S</td>\n",
              "      <td>Aston Martin Rapide S (Petrol)</td>\n",
              "      <td>44000</td>\n",
              "      <td>Sedan</td>\n",
              "      <td>Yes</td>\n",
              "      <td>NaN</td>\n",
              "      <td>Automatic</td>\n",
              "      <td>Yes</td>\n",
              "      <td>5935.0</td>\n",
              "      <td>90.0</td>\n",
              "      <td>11.9</td>\n",
              "    </tr>\n",
              "    <tr>\n",
              "      <th>2</th>\n",
              "      <td>9</td>\n",
              "      <td>Aston Martin V12 Vantage</td>\n",
              "      <td>Aston Martin V12 Vantage Coupe (Petrol)</td>\n",
              "      <td>35000</td>\n",
              "      <td>Coupe</td>\n",
              "      <td>Yes</td>\n",
              "      <td>300.0</td>\n",
              "      <td>Automatic</td>\n",
              "      <td>Yes</td>\n",
              "      <td>5935.0</td>\n",
              "      <td>80.0</td>\n",
              "      <td>9.0</td>\n",
              "    </tr>\n",
              "    <tr>\n",
              "      <th>3</th>\n",
              "      <td>10</td>\n",
              "      <td>Aston Martin V8 Vantage</td>\n",
              "      <td>Aston Martin V8 Vantage Coupe (Petrol)</td>\n",
              "      <td>13500</td>\n",
              "      <td>Coupe</td>\n",
              "      <td>Yes</td>\n",
              "      <td>300.0</td>\n",
              "      <td>Automatic</td>\n",
              "      <td>Yes</td>\n",
              "      <td>4735.0</td>\n",
              "      <td>80.0</td>\n",
              "      <td>5.0</td>\n",
              "    </tr>\n",
              "    <tr>\n",
              "      <th>4</th>\n",
              "      <td>11</td>\n",
              "      <td>Aston Martin V8 Vantage</td>\n",
              "      <td>Aston Martin V8 Vantage S Coupe (Petrol)</td>\n",
              "      <td>25500</td>\n",
              "      <td>Coupe</td>\n",
              "      <td>Yes</td>\n",
              "      <td>300.0</td>\n",
              "      <td>Automatic</td>\n",
              "      <td>Yes</td>\n",
              "      <td>4735.0</td>\n",
              "      <td>80.0</td>\n",
              "      <td>5.0</td>\n",
              "    </tr>\n",
              "  </tbody>\n",
              "</table>\n",
              "</div>"
            ],
            "text/plain": [
              "   index                      Make                                     Model  \\\n",
              "0      7       Aston Martin Rapide         Aston Martin Rapide LUXE (Petrol)   \n",
              "1      8     Aston Martin Rapide S            Aston Martin Rapide S (Petrol)   \n",
              "2      9  Aston Martin V12 Vantage   Aston Martin V12 Vantage Coupe (Petrol)   \n",
              "3     10   Aston Martin V8 Vantage    Aston Martin V8 Vantage Coupe (Petrol)   \n",
              "4     11   Aston Martin V8 Vantage  Aston Martin V8 Vantage S Coupe (Petrol)   \n",
              "\n",
              "   Price   Type   ABS  BootSpace    GearType AirBag  Engine  FuelCapacity  \\\n",
              "0  35000  Sedan   Yes      300.0   Automatic    Yes  5935.0          90.5   \n",
              "1  44000  Sedan   Yes        NaN   Automatic    Yes  5935.0          90.0   \n",
              "2  35000  Coupe   Yes      300.0   Automatic    Yes  5935.0          80.0   \n",
              "3  13500  Coupe   Yes      300.0   Automatic    Yes  4735.0          80.0   \n",
              "4  25500  Coupe   Yes      300.0   Automatic    Yes  4735.0          80.0   \n",
              "\n",
              "   Mileage  \n",
              "0      7.0  \n",
              "1     11.9  \n",
              "2      9.0  \n",
              "3      5.0  \n",
              "4      5.0  "
            ]
          },
          "metadata": {
            "tags": []
          },
          "execution_count": 38
        }
      ]
    },
    {
      "cell_type": "code",
      "metadata": {
        "id": "D9qadHJ_zo2C",
        "outputId": "5f569168-2374-43f1-e16a-22030983b56f"
      },
      "source": [
        "cars_Manual.head()"
      ],
      "execution_count": null,
      "outputs": [
        {
          "output_type": "execute_result",
          "data": {
            "text/html": [
              "<div>\n",
              "<table border=\"1\" class=\"dataframe\">\n",
              "  <thead>\n",
              "    <tr style=\"text-align: right;\">\n",
              "      <th></th>\n",
              "      <th>index</th>\n",
              "      <th>Make</th>\n",
              "      <th>Model</th>\n",
              "      <th>Price</th>\n",
              "      <th>Type</th>\n",
              "      <th>ABS</th>\n",
              "      <th>BootSpace</th>\n",
              "      <th>GearType</th>\n",
              "      <th>AirBag</th>\n",
              "      <th>Engine</th>\n",
              "      <th>FuelCapacity</th>\n",
              "      <th>Mileage</th>\n",
              "    </tr>\n",
              "  </thead>\n",
              "  <tbody>\n",
              "    <tr>\n",
              "      <th>0</th>\n",
              "      <td>0</td>\n",
              "      <td>Ashok Leyland Stile</td>\n",
              "      <td>Ashok Leyland Stile LE 8-STR (Diesel)</td>\n",
              "      <td>750</td>\n",
              "      <td>MPV</td>\n",
              "      <td>No</td>\n",
              "      <td>500.0</td>\n",
              "      <td>Manual</td>\n",
              "      <td>No</td>\n",
              "      <td>1461.0</td>\n",
              "      <td>50.0</td>\n",
              "      <td>20.7</td>\n",
              "    </tr>\n",
              "    <tr>\n",
              "      <th>1</th>\n",
              "      <td>1</td>\n",
              "      <td>Ashok Leyland Stile</td>\n",
              "      <td>Ashok Leyland Stile LS 8-STR (Diesel)</td>\n",
              "      <td>800</td>\n",
              "      <td>MPV</td>\n",
              "      <td>No</td>\n",
              "      <td>500.0</td>\n",
              "      <td>Manual</td>\n",
              "      <td>No</td>\n",
              "      <td>1461.0</td>\n",
              "      <td>50.0</td>\n",
              "      <td>20.7</td>\n",
              "    </tr>\n",
              "    <tr>\n",
              "      <th>2</th>\n",
              "      <td>2</td>\n",
              "      <td>Ashok Leyland Stile</td>\n",
              "      <td>Ashok Leyland Stile LX 8-STR (Diesel)</td>\n",
              "      <td>830</td>\n",
              "      <td>MPV</td>\n",
              "      <td>No</td>\n",
              "      <td>500.0</td>\n",
              "      <td>Manual</td>\n",
              "      <td>No</td>\n",
              "      <td>1461.0</td>\n",
              "      <td>50.0</td>\n",
              "      <td>20.7</td>\n",
              "    </tr>\n",
              "    <tr>\n",
              "      <th>3</th>\n",
              "      <td>3</td>\n",
              "      <td>Ashok Leyland Stile</td>\n",
              "      <td>Ashok Leyland Stile LS 7-STR (Diesel)</td>\n",
              "      <td>850</td>\n",
              "      <td>MPV</td>\n",
              "      <td>No</td>\n",
              "      <td>500.0</td>\n",
              "      <td>Manual</td>\n",
              "      <td>No</td>\n",
              "      <td>1461.0</td>\n",
              "      <td>50.0</td>\n",
              "      <td>20.7</td>\n",
              "    </tr>\n",
              "    <tr>\n",
              "      <th>4</th>\n",
              "      <td>4</td>\n",
              "      <td>Ashok Leyland Stile</td>\n",
              "      <td>Ashok Leyland Stile LS 7-STR Alloy (Diesel)</td>\n",
              "      <td>880</td>\n",
              "      <td>MPV</td>\n",
              "      <td>No</td>\n",
              "      <td>500.0</td>\n",
              "      <td>Manual</td>\n",
              "      <td>No</td>\n",
              "      <td>1461.0</td>\n",
              "      <td>50.0</td>\n",
              "      <td>20.7</td>\n",
              "    </tr>\n",
              "  </tbody>\n",
              "</table>\n",
              "</div>"
            ],
            "text/plain": [
              "   index                 Make                                        Model  \\\n",
              "0      0  Ashok Leyland Stile        Ashok Leyland Stile LE 8-STR (Diesel)   \n",
              "1      1  Ashok Leyland Stile        Ashok Leyland Stile LS 8-STR (Diesel)   \n",
              "2      2  Ashok Leyland Stile        Ashok Leyland Stile LX 8-STR (Diesel)   \n",
              "3      3  Ashok Leyland Stile        Ashok Leyland Stile LS 7-STR (Diesel)   \n",
              "4      4  Ashok Leyland Stile  Ashok Leyland Stile LS 7-STR Alloy (Diesel)   \n",
              "\n",
              "   Price Type  ABS  BootSpace GearType AirBag  Engine  FuelCapacity  Mileage  \n",
              "0    750  MPV   No      500.0   Manual     No  1461.0          50.0     20.7  \n",
              "1    800  MPV   No      500.0   Manual     No  1461.0          50.0     20.7  \n",
              "2    830  MPV   No      500.0   Manual     No  1461.0          50.0     20.7  \n",
              "3    850  MPV   No      500.0   Manual     No  1461.0          50.0     20.7  \n",
              "4    880  MPV   No      500.0   Manual     No  1461.0          50.0     20.7  "
            ]
          },
          "metadata": {
            "tags": []
          },
          "execution_count": 85
        }
      ]
    },
    {
      "cell_type": "code",
      "metadata": {
        "id": "OzOve4-qzo2C",
        "outputId": "fd72f6df-6185-4557-9844-a257d6f9a830"
      },
      "source": [
        "cars_Manual.shape"
      ],
      "execution_count": null,
      "outputs": [
        {
          "output_type": "execute_result",
          "data": {
            "text/plain": [
              "(421, 12)"
            ]
          },
          "metadata": {
            "tags": []
          },
          "execution_count": 86
        }
      ]
    },
    {
      "cell_type": "code",
      "metadata": {
        "id": "pFKNNrNWzo2D",
        "outputId": "892f2b21-b175-44c9-b475-ffc2ad912846"
      },
      "source": [
        "cars_Automatic.shape"
      ],
      "execution_count": null,
      "outputs": [
        {
          "output_type": "execute_result",
          "data": {
            "text/plain": [
              "(372, 12)"
            ]
          },
          "metadata": {
            "tags": []
          },
          "execution_count": 87
        }
      ]
    },
    {
      "cell_type": "markdown",
      "metadata": {
        "id": "TALiCG7Rzo2D"
      },
      "source": [
        "The number of observations have to be same. For the current exercise, let's take the first 300 observations in both the datasets"
      ]
    },
    {
      "cell_type": "code",
      "metadata": {
        "id": "KpOfZHkpzo2D"
      },
      "source": [
        "cars_Automatic = cars_Automatic.ix[:299,:]\n",
        "cars_Manual = cars_Manual.ix[:299,:]"
      ],
      "execution_count": null,
      "outputs": []
    },
    {
      "cell_type": "code",
      "metadata": {
        "id": "sD90dZ7_zo2E",
        "outputId": "ab234452-1caa-49a8-e85c-78176ec1fcc7"
      },
      "source": [
        "cars_Automatic.shape"
      ],
      "execution_count": null,
      "outputs": [
        {
          "output_type": "execute_result",
          "data": {
            "text/plain": [
              "(300, 12)"
            ]
          },
          "metadata": {
            "tags": []
          },
          "execution_count": 92
        }
      ]
    },
    {
      "cell_type": "code",
      "metadata": {
        "id": "vxsrOnECzo2E",
        "outputId": "ab8caf37-c457-444f-d5ca-cd5c5af8dc70"
      },
      "source": [
        "cars_Manual.shape"
      ],
      "execution_count": null,
      "outputs": [
        {
          "output_type": "execute_result",
          "data": {
            "text/plain": [
              "(300, 12)"
            ]
          },
          "metadata": {
            "tags": []
          },
          "execution_count": 93
        }
      ]
    },
    {
      "cell_type": "code",
      "metadata": {
        "collapsed": true,
        "id": "oeINF_c9zo2E"
      },
      "source": [
        "cars_manual_automatic = pd.DataFrame([cars_Automatic.Mileage, cars_Manual.Mileage])"
      ],
      "execution_count": null,
      "outputs": []
    },
    {
      "cell_type": "code",
      "metadata": {
        "id": "F9TCje8yzo2F",
        "outputId": "f37cdacf-710a-4299-a3f3-4293aacee46d"
      },
      "source": [
        "cars_manual_automatic"
      ],
      "execution_count": null,
      "outputs": [
        {
          "output_type": "execute_result",
          "data": {
            "text/html": [
              "<div>\n",
              "<table border=\"1\" class=\"dataframe\">\n",
              "  <thead>\n",
              "    <tr style=\"text-align: right;\">\n",
              "      <th></th>\n",
              "      <th>0</th>\n",
              "      <th>1</th>\n",
              "      <th>2</th>\n",
              "      <th>3</th>\n",
              "      <th>4</th>\n",
              "      <th>5</th>\n",
              "      <th>6</th>\n",
              "      <th>7</th>\n",
              "      <th>8</th>\n",
              "      <th>9</th>\n",
              "      <th>...</th>\n",
              "      <th>290</th>\n",
              "      <th>291</th>\n",
              "      <th>292</th>\n",
              "      <th>293</th>\n",
              "      <th>294</th>\n",
              "      <th>295</th>\n",
              "      <th>296</th>\n",
              "      <th>297</th>\n",
              "      <th>298</th>\n",
              "      <th>299</th>\n",
              "    </tr>\n",
              "  </thead>\n",
              "  <tbody>\n",
              "    <tr>\n",
              "      <th>Mileage</th>\n",
              "      <td>7.0</td>\n",
              "      <td>11.9</td>\n",
              "      <td>9.0</td>\n",
              "      <td>5.0</td>\n",
              "      <td>5.0</td>\n",
              "      <td>5.0</td>\n",
              "      <td>8.0</td>\n",
              "      <td>16.60</td>\n",
              "      <td>17.0</td>\n",
              "      <td>16.55</td>\n",
              "      <td>...</td>\n",
              "      <td>13.1</td>\n",
              "      <td>13.10</td>\n",
              "      <td>17.2</td>\n",
              "      <td>13.7</td>\n",
              "      <td>17.20</td>\n",
              "      <td>14.80</td>\n",
              "      <td>NaN</td>\n",
              "      <td>NaN</td>\n",
              "      <td>NaN</td>\n",
              "      <td>19.30</td>\n",
              "    </tr>\n",
              "    <tr>\n",
              "      <th>Mileage</th>\n",
              "      <td>20.7</td>\n",
              "      <td>20.7</td>\n",
              "      <td>20.7</td>\n",
              "      <td>20.7</td>\n",
              "      <td>20.7</td>\n",
              "      <td>20.7</td>\n",
              "      <td>20.7</td>\n",
              "      <td>17.32</td>\n",
              "      <td>13.7</td>\n",
              "      <td>13.70</td>\n",
              "      <td>...</td>\n",
              "      <td>20.5</td>\n",
              "      <td>20.45</td>\n",
              "      <td>20.5</td>\n",
              "      <td>19.0</td>\n",
              "      <td>19.01</td>\n",
              "      <td>19.01</td>\n",
              "      <td>19.01</td>\n",
              "      <td>13.05</td>\n",
              "      <td>19.87</td>\n",
              "      <td>19.87</td>\n",
              "    </tr>\n",
              "  </tbody>\n",
              "</table>\n",
              "<p>2 rows × 300 columns</p>\n",
              "</div>"
            ],
            "text/plain": [
              "          0     1     2     3     4     5     6      7     8      9    ...    \\\n",
              "Mileage   7.0  11.9   9.0   5.0   5.0   5.0   8.0  16.60  17.0  16.55  ...     \n",
              "Mileage  20.7  20.7  20.7  20.7  20.7  20.7  20.7  17.32  13.7  13.70  ...     \n",
              "\n",
              "          290    291   292   293    294    295    296    297    298    299  \n",
              "Mileage  13.1  13.10  17.2  13.7  17.20  14.80    NaN    NaN    NaN  19.30  \n",
              "Mileage  20.5  20.45  20.5  19.0  19.01  19.01  19.01  13.05  19.87  19.87  \n",
              "\n",
              "[2 rows x 300 columns]"
            ]
          },
          "metadata": {
            "tags": []
          },
          "execution_count": 97
        }
      ]
    },
    {
      "cell_type": "code",
      "metadata": {
        "collapsed": true,
        "id": "HQRbXY-9zo2F"
      },
      "source": [
        "cars_manual_automatic = cars_manual_automatic.T"
      ],
      "execution_count": null,
      "outputs": []
    },
    {
      "cell_type": "code",
      "metadata": {
        "id": "ISAaA9mGzo2F",
        "outputId": "c83ddd0b-95af-4d06-e447-ab2e824ae6cf"
      },
      "source": [
        "cars_manual_automatic.head()"
      ],
      "execution_count": null,
      "outputs": [
        {
          "output_type": "execute_result",
          "data": {
            "text/html": [
              "<div>\n",
              "<table border=\"1\" class=\"dataframe\">\n",
              "  <thead>\n",
              "    <tr style=\"text-align: right;\">\n",
              "      <th></th>\n",
              "      <th>Mileage</th>\n",
              "      <th>Mileage</th>\n",
              "    </tr>\n",
              "  </thead>\n",
              "  <tbody>\n",
              "    <tr>\n",
              "      <th>0</th>\n",
              "      <td>7.0</td>\n",
              "      <td>20.7</td>\n",
              "    </tr>\n",
              "    <tr>\n",
              "      <th>1</th>\n",
              "      <td>11.9</td>\n",
              "      <td>20.7</td>\n",
              "    </tr>\n",
              "    <tr>\n",
              "      <th>2</th>\n",
              "      <td>9.0</td>\n",
              "      <td>20.7</td>\n",
              "    </tr>\n",
              "    <tr>\n",
              "      <th>3</th>\n",
              "      <td>5.0</td>\n",
              "      <td>20.7</td>\n",
              "    </tr>\n",
              "    <tr>\n",
              "      <th>4</th>\n",
              "      <td>5.0</td>\n",
              "      <td>20.7</td>\n",
              "    </tr>\n",
              "  </tbody>\n",
              "</table>\n",
              "</div>"
            ],
            "text/plain": [
              "   Mileage  Mileage\n",
              "0      7.0     20.7\n",
              "1     11.9     20.7\n",
              "2      9.0     20.7\n",
              "3      5.0     20.7\n",
              "4      5.0     20.7"
            ]
          },
          "metadata": {
            "tags": []
          },
          "execution_count": 101
        }
      ]
    },
    {
      "cell_type": "code",
      "metadata": {
        "id": "oBTomYrmzo2G"
      },
      "source": [
        "cars_manual_automatic.columns = ['Mileage_Automatic', 'Mileage_Manual']"
      ],
      "execution_count": null,
      "outputs": []
    },
    {
      "cell_type": "code",
      "metadata": {
        "id": "hcQKCQIJzo2G",
        "outputId": "c5032bd5-683c-45fb-e2a6-1783b349bd8b"
      },
      "source": [
        "cars_manual_automatic.head()"
      ],
      "execution_count": null,
      "outputs": [
        {
          "output_type": "execute_result",
          "data": {
            "text/html": [
              "<div>\n",
              "<table border=\"1\" class=\"dataframe\">\n",
              "  <thead>\n",
              "    <tr style=\"text-align: right;\">\n",
              "      <th></th>\n",
              "      <th>Mileage_Automatic</th>\n",
              "      <th>Mileage_Manual</th>\n",
              "    </tr>\n",
              "  </thead>\n",
              "  <tbody>\n",
              "    <tr>\n",
              "      <th>0</th>\n",
              "      <td>7.0</td>\n",
              "      <td>20.7</td>\n",
              "    </tr>\n",
              "    <tr>\n",
              "      <th>1</th>\n",
              "      <td>11.9</td>\n",
              "      <td>20.7</td>\n",
              "    </tr>\n",
              "    <tr>\n",
              "      <th>2</th>\n",
              "      <td>9.0</td>\n",
              "      <td>20.7</td>\n",
              "    </tr>\n",
              "    <tr>\n",
              "      <th>3</th>\n",
              "      <td>5.0</td>\n",
              "      <td>20.7</td>\n",
              "    </tr>\n",
              "    <tr>\n",
              "      <th>4</th>\n",
              "      <td>5.0</td>\n",
              "      <td>20.7</td>\n",
              "    </tr>\n",
              "  </tbody>\n",
              "</table>\n",
              "</div>"
            ],
            "text/plain": [
              "   Mileage_Automatic  Mileage_Manual\n",
              "0                7.0            20.7\n",
              "1               11.9            20.7\n",
              "2                9.0            20.7\n",
              "3                5.0            20.7\n",
              "4                5.0            20.7"
            ]
          },
          "metadata": {
            "tags": []
          },
          "execution_count": 104
        }
      ]
    },
    {
      "cell_type": "code",
      "metadata": {
        "id": "69CcN5A2zo2G",
        "outputId": "f950a094-3e73-4163-e10c-695fe71e4bb0"
      },
      "source": [
        "#Co-variance matrix between the mileages of automatic and manual:\n",
        "cars_manual_automatic.cov()"
      ],
      "execution_count": null,
      "outputs": [
        {
          "output_type": "execute_result",
          "data": {
            "text/html": [
              "<div>\n",
              "<table border=\"1\" class=\"dataframe\">\n",
              "  <thead>\n",
              "    <tr style=\"text-align: right;\">\n",
              "      <th></th>\n",
              "      <th>Mileage_Automatic</th>\n",
              "      <th>Mileage_Manual</th>\n",
              "    </tr>\n",
              "  </thead>\n",
              "  <tbody>\n",
              "    <tr>\n",
              "      <th>Mileage_Automatic</th>\n",
              "      <td>22.375515</td>\n",
              "      <td>0.446292</td>\n",
              "    </tr>\n",
              "    <tr>\n",
              "      <th>Mileage_Manual</th>\n",
              "      <td>0.446292</td>\n",
              "      <td>12.776373</td>\n",
              "    </tr>\n",
              "  </tbody>\n",
              "</table>\n",
              "</div>"
            ],
            "text/plain": [
              "                   Mileage_Automatic  Mileage_Manual\n",
              "Mileage_Automatic          22.375515        0.446292\n",
              "Mileage_Manual              0.446292       12.776373"
            ]
          },
          "metadata": {
            "tags": []
          },
          "execution_count": 44
        }
      ]
    },
    {
      "cell_type": "code",
      "metadata": {
        "collapsed": true,
        "id": "SSmXBnRazo2G"
      },
      "source": [
        ""
      ],
      "execution_count": null,
      "outputs": []
    },
    {
      "cell_type": "markdown",
      "metadata": {
        "id": "54kgZjxzzo2H"
      },
      "source": [
        "### Correlation\n",
        "\n",
        "Extent to which two or more variables fluctuate together. A positive correlation indicates the extent to which those variables increase or decrease in parallel; a negative correlation indicates the extent to which one variable increases as the other decreases.\n",
        "![correlation.gif](data:image/gif;base64,R0lGODlhzwGJAIfAAAAAAAEBAQICAgMDAwQEBAUFBQYGBgcHBwgICAkJCQoKCgsLCwwMDA0NDQ4ODg8PDxAQEBERERISEhMTExQUFBUVFRYWFhcXFxgYGBkZGRoaGhsbGxwcHB0dHR4eHh8fHyAgICEhISIiIiMjIyQkJCUlJSYmJicnJygoKCkpKSoqKisrKywsLC0tLS4uLi8vLzAwMDExMTIyMjMzMzQ0NDU1NTY2Njc3Nzg4ODk5OTo6Ojs7Ozw8PD09PT4+Pj8/P0BAQEFBQUJCQkNDQ0REREVFRUZGRkdHR0hISElJSUpKSktLS0xMTE1NTU5OTk9PT1BQUFFRUVJSUlNTU1RUVFVVVVZWVldXV1hYWFlZWVpaWltbW1xcXF1dXV5eXl9fX2BgYGFhYWJiYmNjY2RkZGVlZWZmZmdnZ2hoaGlpaWpqamtra2xsbG1tbW5ubm9vb3BwcHFxcXJycnNzc3R0dHV1dXZ2dnd3d3h4eHl5eXp6ent7e3x8fH19fX5+fn9/f4CAgIGBgYKCgoODg4SEhIWFhYaGhoeHh4iIiImJiYqKiouLi4yMjI2NjY6Ojo+Pj5CQkJGRkZKSkpOTk5SUlJWVlZaWlpeXl5iYmJmZmZqampubm5ycnJ2dnZ6enp+fn6CgoKGhoaKioqOjo6SkpKWlpaampqenp6ioqKmpqaqqqqurq6ysrK2tra6urq+vr7CwsLGxsbKysrOzs7S0tLW1tba2tre3t7i4uLm5ubq6uru7u7y8vL29vb6+vr+/v8DAwMHBwcLCwsPDw8TExMXFxcbGxsfHx8jIyMnJycrKysvLy8zMzM3Nzc7Ozs/Pz9DQ0NHR0dLS0tPT09TU1NXV1dbW1tfX19jY2NnZ2dra2tvb29zc3N3d3d7e3t/f3+Dg4OHh4eLi4uPj4+Tk5OXl5ebm5ufn5+jo6Onp6erq6uvr6+zs7O3t7e7u7u/v7/Dw8PHx8fLy8vPz8/T09PX19fb29vf39/j4+Pn5+fr6+vv7+/z8/P39/f7+/v///yH5BAEAAMAALAAAAADPAYkAAAj8AIEJHEiwoMGDCBMqXMiwocOHECNKnEixosWLGDNq3Mixo8ePIEOKHEmypMmTKFOqXMmypcuXMGPKnEmzps2bOHPq3Mmzp8+fQIMKHUq0qNGjSJMqXcq0qdOnUKNKnUq1qtWrWLNq3cq1q9evYMOKHUu2rNmzaNOqXcu2rdu3cOPKnUu3rt27ePPq3cu3r9+/gAMLHky4sOHDiBMrXsy4sePHkCNLjgkAwOTLmB1W3py5s+eBlYFttvy5tGfOplNfRq269WPWrmMrhi27dmHaWUnb3k0St9XQNEcLH058uNbiyJPr3u2bKvDgyqOPPi69Om+BzaUux7t8+3Wi/NmfPs8NkvT4pedLh2+6XnR60O87Zm8P33vG8/Ptc8zfkD5k/0iFR5xBxn00YEEF9gdgfwQlSGB8FzmIIIQNUijZgkZZWN92B4Y0XYXCQfRhhAmNOKF+GpkIomYoToYheBrWVyF8JcH2XIwPYkQhfyLxqGCL/+GYoZDYAUfkfkYC+dCRJyrkY3kQEvniYVMGhSFqSnpo5EZVurfQfL1FKRGTVJIJ1IucZamlZWouSeZ6zUWZnIjxvdlmYl36NKWKKvEZIZPtxenknG7qd+eKmeVpUXXIFXpokY96pChCV2roG5DK0WlfpDJiNmlFjHbIUJWf/snpl1LGiJuFmfwWmiOoZgpW6kSiUoqjnz/C2qirkgJIn4qnjklbsJB6Gut9IY6qJq7Kmtkqi8eWeOuvNqJkIrHFrhatjsmi2qyzpBIKLbYHMYvot6ClNCK57m27V7csSViukvBqyumzP7J7Ir2+Jtmnvym6y12t/5qLHbq0tusSmwLvi3CuDWvqJZezfrcvnA/T2a6+EYVmMK3m1jtoxfZyvPFKNkZ8F8Ed79lpny9TLODHG7ZEc8sqj7wuySuLXPKY5048UnfjuRvygjxL3GvSOkOac883z0ttkec+TbXQCl/N7Y5ImywslExLa1622kZ98bf4pen1hml7rK/PTosI09o1W7v9JdZl7/mxz3AHfKnZaNvq69xDhy24aD2G2jdX8uabZZyGk+0wkpD7R7fchUe+4uVOK845jOBqvh/KuC6e7kufd34S4CB7zqrrsMe+K0Wxmh4W3LZb7WaNrOua+pqyBy/7oqfaDhbupTMcr/K8iy65UMJHHzusxDs/ZOXvGW9g77RzL6zuf0Wbu/Tkh+p3nX5aL7W63uMc27bjly8/vtWjrz5P2m9t0vBiCbz3/AAszvkMBawAGnB6UgNfzDLnurHcClUKxJxNkDesA1pQcYKLYNaa18DbtQlT7asKs+p1wRJaJ4G/u19dhPQ6FVppZhr8Sf501ZpUZYyDY8vJ0f1iqCfRuVAuqeIXD7MWwsTB0GrJ+l39LEajP41LiErcoBRrsrgZ8qqIDLSYFR/UwRuuCUE6+V/OUhbF1g3RL247Fv+8CDYw6jBQPBvWTrZ4mtqtsVn7q9YbHxdH/Mzxh+ELHQJzhcOe3KyPRfvjGWUlSNgpLUyA5BUhKbdIGjLxeTexHhYzp7GlVfJ7ZSRMJCUJyVC675GUNOQnAzPK3eVxlZMkpcxM+T1WpodprXQlB1+1QE7W0pOKRKODGqe/Hq5tU0Xb2RDteMxcis2WRIubfGAJMkmtr0mIw5sRiaejaz6vks6ECmuI1kxaOnF0XJxXNtmHLfFdk4SLpKZz/e7WS2SZ85z25CU2/5VPUHlTa01cnTynkqZ0Lg1G55uRtEiHpO5555absts9f+O2yXGRZQYFz33Y5i27bc+MCp0QgdgnSo9l9KLE3CdcNqkgLQFNdep0Yx5v8zcUiWtkc2Feb8K0zdPxrkwQlZMA8RgX80zUQF882EwNkz7dhfOP66RnWrC0OjzZL6lsudZT36jUS6q0bts7qgzT9haTevWr9ZTZWYO51qAhqpxt5Wpc01rQsM41k3fFJEw9Kda8+vSu+SlnSv26P8Ia9nZdPaxiqTPQxTqWnY+NrGQnS9nKWvaymM2sZjfL2c569rOgDa1oR0va0pr2tKhNrWpJV8va1rr2tbCNrWxnS9va2va2uM2tbnfL29769rfADa5wh0vc4hr3uMhNrnKXy9zmOve50I2udKdL3epa97rYza52t8vd7tYmIAA7)\n",
        "\n",
        "<br>\n",
        "<br>\n",
        "<br>\n",
        "\n"
      ]
    },
    {
      "cell_type": "code",
      "metadata": {
        "collapsed": true,
        "id": "gyaBhPNRzo2H"
      },
      "source": [
        "#### Find the correlation between the mileages of automatic and manual in the above dataset"
      ],
      "execution_count": null,
      "outputs": []
    },
    {
      "cell_type": "code",
      "metadata": {
        "id": "rwHeaQ51zo2H",
        "outputId": "10db035f-627d-4c84-9744-79d4c27eaa8d"
      },
      "source": [
        "cars_manual_automatic.corr()"
      ],
      "execution_count": null,
      "outputs": [
        {
          "output_type": "execute_result",
          "data": {
            "text/html": [
              "<div>\n",
              "<table border=\"1\" class=\"dataframe\">\n",
              "  <thead>\n",
              "    <tr style=\"text-align: right;\">\n",
              "      <th></th>\n",
              "      <th>Mileage_Automatic</th>\n",
              "      <th>Mileage_Manual</th>\n",
              "    </tr>\n",
              "  </thead>\n",
              "  <tbody>\n",
              "    <tr>\n",
              "      <th>Mileage_Automatic</th>\n",
              "      <td>1.000000</td>\n",
              "      <td>0.026011</td>\n",
              "    </tr>\n",
              "    <tr>\n",
              "      <th>Mileage_Manual</th>\n",
              "      <td>0.026011</td>\n",
              "      <td>1.000000</td>\n",
              "    </tr>\n",
              "  </tbody>\n",
              "</table>\n",
              "</div>"
            ],
            "text/plain": [
              "                   Mileage_Automatic  Mileage_Manual\n",
              "Mileage_Automatic           1.000000        0.026011\n",
              "Mileage_Manual              0.026011        1.000000"
            ]
          },
          "metadata": {
            "tags": []
          },
          "execution_count": 45
        }
      ]
    },
    {
      "cell_type": "code",
      "metadata": {
        "collapsed": true,
        "id": "3ZMYvZcCzo2I"
      },
      "source": [
        "cars_manual_automatic.corrwith?\n"
      ],
      "execution_count": null,
      "outputs": []
    },
    {
      "cell_type": "markdown",
      "metadata": {
        "id": "No8LUTuKzo2I"
      },
      "source": [
        "# Correlation != Causation\n",
        "\n",
        "correlation between two variables does not necessarily imply that one causes the other.\n",
        "\n",
        "\n",
        "![correlation_not_causation.gif](data:image/gif;base64,R0lGODdh9AFFAfcAAAAAALTFvdWkpKxaWlIAAPbV1ZSspP///97V1Xtzc6QxMZRSUt60tHODeyAAADkAAM3FxUEQEMV7e82UlKRKSr1zc9WcnGoYGJwxMUoAAObFxb20tJSsrBgAAKxSUpQpKTEAAKRBQWIAAM2cnLRaWsWDg3NKSvbe3oMICKwxMUE5OZQQEObNzb1aWhAAAP/V1ZQgILRSUua9vdWUlM17e71qaloAAAgAAIMQEJw5Od69vfbu7hAICEEAAM2Li5wpKbRiYosQEKykpO7V1fbm5qRqapwgICkAAO7NzZQYGCApIIMAAEpaWu727vb/9osAAIsYGBggIBggGDlBQVJiYpyknGpzanuLi4OLi2pzc0FKQVpzaoOcnAAIABAYEKSsrJysrFpaWlpaYnNzc3NqalJSUmpqamJiYpSUlHt7e3t7c4uLi2JiapSUnIODg5SLi0pKSkpBQXNze4ODi0pKUqysrLS0tKystLS0vVJaWkFBQUFBOSAgIDk5OTExMSkpKSkpIN6kpCkpMSkgIL29vc3NzVpiYkpSUrS9tKy9vbS9vWJqaqSkpBggKd7e3t7V3jk5QUFBSikxMTkxMRgYGBgYIL29xd7e5iAgKcXNzRAQEBAQGJykpGpqczExORAYGAgICAgQEAgACIuLlAgIEHN7e3sAAEFSUkFKSnMAAKQ5OZSkpJycnJycpLTFxWpiYjEpKYuUlO7u7nt7g+7m5pScnO7u9sXV1c3V1ay0tIOUlCAYGObm5mpaWnuDg97m5jlKSt6srObm7moAAIukpPb29vb2/8XFxc3N1cXFze729qSkrNXV1SAQENXV3lJSWnODgzE5OdXe3sVzc73FxaScnP/u7pyUlM3e3ua0tCApKebu7mp7exgQEAAACAAICKS0tP/e3qxKSosICO7Fxc2Dg/b////29mJaWgAAAAAAAAAAAAAAAAAAAAAAAAAAAAAAAAAAAAAAAAAAAAAAAAAAAAAAAAAAAAAAAAAAAAAAAAAAAAAAAAAAAAAAAAAAACwAAAAA9AFFAQAI/gAPCBxIsKDBgwgHMkNVbKCsUp9KyUpIsaLFixgzatzIsaPHjyBDihxJsqTJkyhTmtz2B8AvgY4oAZDph5fKmzhz6tzJs6fPn0CD6lTUDYCmSwL1gCp07gsAN0KjSp1KtarVq1izMgMQJozLA8UAxBpY61jWs2jTql3Ltu1NWdQOjAFg0w4AO2X89GHmtq/fv4ADC/5p5mssAAD+5EGc6cC5wZAjS55M2W3Dwo4OoAEwBqamMAeLiZaW6Vbp06ZTo16tujXr165jw54tuzbt27Zz496tuzfv376DAx8uvDjx48aTI1+uOpM0qo8L26wDIHPDPpUMOpqDZU40XauI/tUST368+fLoz6tPz369+/bw38uPT38+l1X38+Pfr78////+BQjggAIWSOCBBiaI4IIKNsjggw5GCOGEElZI4YROTGXOAWTQdYAsAHAy0B9aUHSKIk6IVkyKK6rIYouivSijizTGWCOMOM5o44453qhjjzz+KKRo5xRT5JFGJonkkko2yeSTTkYJ5ZRSVknllVZWmWSTWyLZ5ZdcFhkmkWB6KaaZZJ6ZJpljtommm2XGqSacc76JphOZrNKQVNF9dUAZN9RCSBkA1HHAhgehokhljDbq6KNCZULMY1JtWNhEhxKKWGcmLnoWogaBGiqkpJZqakl5ihqVLM4UxAwz/plVhEpclFKl6kB7nqrrrryCJGmtgyl6KFDGHOBIrgLx4kisBMniCFLaOWJTr9RWq6ukGUZ2YlAZzvXSocWcgRgAZjRUbCw3IKbHS49tA8e4ZxRr7bz0UpanvJDNKtQsRll3QBoAlFGHG+QKZJcknLCiSTTgvptGLodwdkC29VZssVu/SibsT7z0AYAXmnxLSyh9DLQZLgdEo8m0W7FygF1rDORHiRfXbDNa2Eq2bU8bHkPKMWN4M60jEitzjiIAMHLADX+Adc42XP0JwIe8YHrz1Y3ysk1kt+ipMSET/5ShGV1A+0vUAuVS6AGU8DEQLwC8coAe38yFWClY5y2Z/iyoAAAKVINl7BGyUaESgGNBdQLKtAdokbQw1LSkNMFp8IILHQW/G8oanOgBQBqI6y36WdlSnGFestjRRSGBE0NxsJ76RGlh7B6ADB8AdJFY0h/2jRjuZxzwLrOUUDLs6MizRUisfbhMuEavIxQ9SXk+f9AxYdhxgBlfHPDKGd9KdQrYQFlaNkHFsILGMUgbKlAdaNQBd/BKgSVQFqIwm/z+QUmTix0AzMUxrGYyStzqIrJAxDGsJxBlEIIauSqGLCZIQVlMDyOSwkgWAOAyAAQvFAAgn1RQ4YrjEWZxAimGL94wEDJ8IzOs4NQB1Na9wihjIH3wAgP5x0OVZEhc/uMaFxZSeIAqgKIxwLoIJ8alDWQcJBeaQAwozKKZIOYOAHHpyC2IsUOCbCYMsqCEGwoRim6Er3CxA4riXnKdQm3DLmUQCMDSsI1j8MF4B4AbHJjBizUAgA09DGRP2JC0ZTmCEZsAAOsO4As+IKAjW/lDIXLBAz80YSAZKgQo+GAHR+jBG3zJhCEWsYgzbNAPtvBI9S6ylcRogg+gAMAhqjK+oDREXMxiRhRjqYc9ycJjseQDXwSyRAB8AwC9FKQyb9KQRYSQIISQmB/r4IhCMG4giFJVhgzhoSqK8DFYeKZANBG8grDCG89RJTEu8hg7fCKIcAjdCNP4k0ywAlmO/kDDGpSGPlasoRYEPAAz0PAGRhxwmQgdiTOpaLDPHeAQfPhDFCrRvYFMwQ9+kARGJRGzDD0GDqDYUyEAEDOBbCgMoJCFaA4QhqYRURpPkedGJNXFYTniC4XAwivMUAdFuG8qJJRpSmqa0KJmJUOELEUu6vAFNMQyneY4YB80+geqDhFXUdADQTShVYE8BmDpPIA2NHHJgegBjx9ZpUWiKQSCgBApB+UJKsAW15w8zxznOCADG0JUo/q1Io9xphX1kAuRFIMS8RyIJqYwkGJFUw+FyIS4KDGRhhyDg2FTZ0UcAYcyeMwPcAgtHKIowqjs7CZDGIEEyqGBhiTxr7Ct/tQBxOUGACqltK8VyBgWYQbeWsEQPwULH1Cx1UgYhGCI6YMeQpFKgRziBjfMLUa2WFM/WDGIfLghUA+nkiF4YAmmSEV4fxAME8b2vFFxZmPAQglQ8EW6E+PBdc2AuIacFa/GAgDezFsIN7DCHLBI7IdAIeC0eo0ijjiD5yBhhjOYocEMHaElVIIEKIjXFOA1RXglgN4O2/IAztyA/aJZsooUwxYS3IEydpCrDYlrBwJxSmkPQAg9sMyhDaFOYeF7kQyysg9ZzMq2LviRIn0gFSjQMIYxjIJUlNfDUO6JuOjqXADUwrwcuewzcHEMTaxMIBBgndoOUYhC+AEU/toM/pXTysWPbI0qGytJQ8qB5CWbIslK/kCU94yTDDnTUw3hBQiv2ZFwjasL2msIALQhx3GFIrheebOvVkFkgxQiDW7AtBvMwAdCB0VfPO4IBlKRYSVrOMPZECqfVy0SZrQhoNRYg6c7Qg03uKFVA/kCQwnhhjXAuqIh2WKoBaLL61IWzvQcCRGgcOdTL+HZd25yOVhN7UDS9CKsSAwsASEIzFLltCN5DBLGYerwioDUd07FtIdd7XZT5ILsxghRGRjviuSp0gSZix2i6YsDgKKrddWJvgK+kWIcGbzgdQEAXJCBJU/A3RAXneAqAjBOnOMbgmAbAJA4z5SIo84aDiLD/oPwmL5G/OS7khS+KEKdTxTiD6A4BChW9+1kh+QxGmg2hnuQLmMCoBnaQ7nQLXbviyjDc8fYjLqqMleV1EC8SV5CKkAQy3HpgaEmH7rWJyNsi+zJUOZwgzbOMOuEEA5Re+1rULOukRqEV8NJHkYEQFh1Mm/97tdq80dMXohPWC0Mn/gEJUIx4YLEIpZ+iHCibF4SGZDgA08IAgUscA5HcHNcNzDEIuuN9863pegVOQYh7FBZgayhJhc5hkysBgpKqEAPkDUnAPoQhvYuEiG1zMk5TkCEgiBDU1I0wzAJ7vniq2XiobEbAARhk2N4LBTCwHJBABYKUbyZGd+YMUGi/gALgUANDfZLFHeFcgzPjQsUWSi78de/FknV9bJ+i+UZvlD1MtS0GJtgBSMAgKnDEIIVIoI+B2AImiANxWAXLnNQcYYTPKYI7zIun5AGAcV+FIgWXdNFXhEJxRBNVccH/3URDeEUmAIw4+IHAVUMLRFLoHEQ8iIsbGcRG5JXjrEhMTgQMjgQjDAFQUQJaKBdnFc+MkiDwyKERDiERliESHiESpiETLiETtiEUPiEUih9FYgQiIJ8BqENMVUM1jV7koYR+0cLptcHdcAM+5cHiJMhrEAJfVAGUYB6CXEIQVYVjNCFv3NPVZiHVoELXFARkqBfH+IxGug0F5Eh+/eF/gNRBppQEADAMB/yGQaxDXWQC7kQDbVAiZNYB3ewVJnYiZz4iXXgiaG4VKSYiaV4iqa4bxBTdYjhB2ugCISQC19girSIirZIi6KYi6Coi7XYi7f4i74YjMA4jMJYjMR4jMaYjMi4jMrYjMyIjLyYi6E4jbtYjaN4jdFojaIIjJnICQbQRX8IODqIiBbxGPuHKYRgFg0xBotIEKAAfva1CQYhC8dQj1MABvWYDMeQCfXIj/vYjwD5jwLpjwQZkP4okAjpj9QAAcyADFggExA4BpnADPWYjxWpjxWZkRqZkQU5kAb5kQgZkhs5kiRZkiZ5kiiZkiq5kizZki75kjAZ/pMV2ZE0CZD8eJMgWZMeuZM62ZElSZDgcGAI0W1lwAiMgDtoYJSMYAf4RhAiKBDR8Ad8tQklNhCgUGJhhIYJcQpzmBWykAZRJEV6sF56WJY9gQuURhFKcF1BBArRVxEb0grdtH98cAgyYRZ18Ad8cRiSgApRxDpEtoBYkS28IAdhqS5URHxmuZgdgYUFEQ3FE5mRuQuUEA0TMWzUIAkwJhCMoA2gEA3kYwfaECuM0F6RoHgGAW5qwQxmwIpcgTKZxZiyKRKOCRiCuRaF4BU+50Gxopiz+ZsGkTORAWp+UQgPKEVZECsvqCHAiVBqlS+L4ptWQQg6OC6UUDkmdRXL/lIQ28AMhXCC3hk+xSANr/IqhYALE9ic1VKbf6Gaf2EHHjMumoAFeyKdKJEhghZHA0ENEKkJhvIYvxCfJEVsbAk66lkvwul1aQEH4zcYdbiDaFCfUcEMuCM3DYEAmsCD1EAojcGFn0MNADMWvJAGYzAGZqAGuEOWB2otzylvWXGbgZE+LTEuf8BPsckTxVAKALALHmQ/tbA2AsEHcTRS9CUQZYBWA7ENoNAGK4qg63QRhLAIzBBBVhFUP4gWyrAGEIkYkvBT9hkSkjAGZyMGYXMGQrNSZ+A22bYookEd1iEmf+AHTeqk93cA+9eIaeAIoHKlJ9F0k0EpyuAGrqkC/kF3ACunE7TQow3hR2TpMcowUiUlFwCACNn5o7c3p+uZlhZRCOaHGLCABsM0FdvypWshC+wIT3iASVaYnSNBNKDxGCN1dY4wFyvjBMVjB7+QbXeBOOcQCl2FqSw6KRlRCKwAB7hjFJ7ACE2ZEzBKGQkGQuOSB7cnKrfCp7iSRz2KKKMwLn0gc3UBrZpQGBO2IUtUqMBKLQmKEY7gO+MSBstZEnBQQo8iL8xwBq4ZBsN0gwJhDSfAe6z6Ea5aEIXAVMWwB1XJC6HIC7MQCqUHB5vwrucqGS1KEYyQBVtKCVjQmoqERteim7H0DWYALQIxBECQBBoWBAMgAyIxP/aT/pvpBDf0JQthYKOa4FJ5BArlFLHo+qQWoTaIQQlnQA2YIgYbC7Eh4Z6kQgiO42huYBMC0GSmJl4cBhJEEzwN8VjeqYOsIwwzkQzSIC7Ok194Y7Q6GxjXZhFC8AdlQAiIiAZ6kJ5ypX2mQgjREESa0AsosAR4hnDh5QPhpxGBBgBaKRDI5TdMmjasWKScCaRlyyugVxF1EA2w6RhnIEMjdDiHeip1YIcAcAM9kApPYGpJhgInsHeMcKk0ZpT6I1BGqaLGwghl1bgpJ6wU0RB2AY+Gqjsd2nG9Uius0BLHtHANB23pNrWyS23pqh1/wAdR1A18sAt8AEsAkAxUcQiM/rcrxWACPYcYNzC8GpYKqoAS+iqAr7Wsx1sZE2sQJOiaiKGf20UvDdECqcBzQdQBBKC3ppAE54u8PGt2rFAYYZAwAMgIZFsSzcorJGAK45AKD7C9AOAANmAKKXCj++thZ1sRsuAL6jdCtGItjzEC4vVswwACQfQNHVAEXlXBUfa4B3EG2nC6feAH0RtRfKAFm9lxpEoZJ4ADzSbCRyBF3xAKYUC9VKjCRsWeAgFCaRBN1yU0RcwTSEstEwB1cPcEIvDDQbQIymnEsZW8BdFU1oQGYizG15CUBTwScHC9vVICbwdeeLYATNCWWSCGT8zFPZS+timvFhMMFFBqOTAC/gJBCMdpFBpcEDlsxxXjYwmBCn8AC5LwB5AcyX+gB+QIFAdsLScwBI5QAEkUuRD6ZmeMyMHaRe/ElojxDRsMxXIrOkeJXXj4t6K8PyxsEHawBrZ8y7jsMshGwchTC8eKGH8Afikcy8mDxH1hOKqGPMWwBr88e3fwr8SsN15MESqlUr+wQBkRoQNRCKInehN4gL5gBzVFB2qsN5TyEFvaiKsczTaDxwWRV2sQCX5QVX7QXqk8EHMhaYe5q81St1GECjd8EFGcPIgyoq4JB1lkrexMKoocemwZDUTFCxEDCnQsC6AwBrjAzYTjFdpDMDGjgA0qSJQiDRrbrot0yAvd/igXvKp+BAda4A2H4EyRanatZwbfgClqE6oFERb9JkfAlijrLEjMAHx+cwb5mtKJrKkVMRfHsBXBs0l85b/KYBeY0tKQbKMNQQ0AYAlu4AdhUMkpPKpGRSmFQNSgwAa9idTVkiHGPBDhlAbFsElhhEVgCAB0PBd8cAZRAAAVtSF+pAmgsNcAoNOpWc7LRAjsCgChQEdqPS8XCFg0hhjU6Td+s7oJcYgCUQg2+gd49BibUaSFoAmdcBAqVQwuKBrGkCLGsCKrDSSuPSRB4iOozSKpPdu2XQy1vdpO0NrmYNu6zduorSLCvdstUtvF0Nuszdq7zSLvI6BG4QZ8JdzH/h0juo3bLELcqs0iyI3d1i0a213dxv3dxa3d1D3e3l3e2X3eyZ3e073e3d3eMHLdOyLf8T3f9l3f+E3f+n3f+43f4s3e//3eAR7e6B3bBi7dCK4iAZ7cB3AM/VsRWFCA8AcAWQCCdsp/hnwApYBHIVgd9tMHUqAd3IEFf4CP1CCTKJ7iKr7iGXnikVUKnAu01IAMB8niNn7jOJ7jOr7jPM7jJx6UNYVXssALhWBZtmbZlw0Ab5YHMgQHSAoiPwULVXkQ1stn6aOFJUjAja0rj71WjMs2oWATw3aOAiEunFAMm9FvvGAJ9gUKhFAMG3RlixzSUaalQeQHwBbKW54V/sbcR2jgTGEgxm9weOJkEUuEKb/Urg2xGWbBC3+IGDmLe4ui0IFUDG6wz34QXHvOKNOMKzPKll9GcMWg08VwDKxAljtggALhBKZO2ItHbXtSmOnsp5uOvkKJEC8nE93wB9oAyX5groXTldT2C2awz2UAm5lb63/R0BRxDI+GFsJivh32tdyLGPiq7JGx0rWbFgPNZ2S9GOdnBcOk59jOE+5sELzwBb2GBWtgBahwzwIX1NV2DNWJGJqQp6te7hjz4AnhCKXclnDLE4/R7e5GCM6tCRIxzPqeFtqOEEvEA1EUBVE0C0x3OJSOXnXg3JWwBhK68GcxywihBkmzDJzB/rXuKz5rNnS5wgqP/jsBmMweHxVtLRA6WgdhwTBSMNiwbMmGfXLp08x/8PIoHfOoQgwBtyH79we4AAikYK+i4LpBQfAnhyiyYOfcqulEL/O3fhCPQQtaWGvjIglM18Hstw2nanVBR+5ZP1P8nhDKMAe35Aexp/YdISxDz2rCMAauGXt1vPYp0fBedAjaR/cggcxVuCfS8ArQihjSqvB+nxMgv30Swwt60Afw7hOoUHhmyQwoBQDegBiv8C13//j2RrsIIQnfADow5eFYIfXrZ5xShBjpR/qQb/QU8YeqD0L+UqU9z37U0KkA0A2+sMW0bxLnfgDdBjqOEEtIzsG8/myWm7uDcxDwxa9Zt88Zow5CU6oiTNf7VbgMnz4TaJBN1R8SgD8iXQDxgG0UmtANmmBJNTentcC5f6DLF1/8kT8Q/86Wbgln8l6WAOHkwIFia/gAQAjAT66BB8w1hBhR4kSKFS1exJhR40aOHT1+BBnSYiZi5ywSynXHTq46dla6RFRM5MyGqFwRpJlT506ePS+aPKAsjaaEACBRawjU51KmTZ0+hdqQ5MOoTVEpqppV69aPvEqBKgqH0ECqXM2eRZs2Y6ZVMjECNXnOnFK1p8aqxZvXqaMzYBM+O6ZX8GDCPkkW9ogqAGLGjTMyy3MjYZdnjga6dZxZ82CSmC96/h58dfPoxlQLhUEo+dsiy6Rdv87KViDHsnpRITUGW7deQodSA9CURhbZ3cWNgyRJt6IjRphBpxV9XLpZO32KasIy/IDy6d2nT83ICMCfPBC0H8hdF6t39lFz+SnKZ43b2u3tu2b7PKJMO0QR8jkDF/24QuWu+w70iZWDEvqjjQERhJCwwzSSJZYzPklICTeYycgRSWhpqBQ4UIFDj0IqWqSOi2w6YLYIXxQJjQURUkLF7eqDMUezOuvomDH8AgAUNxyqiBf4zgNFExX66OPE/Q4YAwBftqsoOh2v1MgtWbCgpCg/7MAyTK5k04gZVuDoMkg/BEGIQ+6KQQMUb0DR/k6aG/C4yA6E1rjILjH/zIiXWbwoCpXAiAM00Z2Sy4iQogRZI5OB9ADgUImK+WaMWgDQbtNjcMGFIkcomUKTKS2yUlFVIeLFDCABgMNJ7laldS1icJxIPD6yKGQ2mdyQhJeKQKyD04HSCOs8nKIBYNQ0KJrrgFOwerBWix6iClfE6qPKLUfEKAqAMJzUdilsiTw3XXTXVbdddt91N15455W3XnrvtTdffOc9IL/HCLFlIlmqHYgTYw/A4g8smEHWjIZkQhZMIdGr6BCkrMXYkTBA+UYyUBbhEGORK8KlpI2c4IUXWrbhJRmCiRRP2Ybg0IQ4Rw9JGZQxZCaoEGZw/pniC1x+Jnpoo4tG+milkza66Z+dBvVpqaOmGmqrp766aqy31prqn31mxmdckPma66zPNjvtro0Wu2ifwX7aEV5YiaIoneUOG1Sy11Yb7aHBHpsZwcn+mXBmCA98cMETP3xxwxF/3HHBGy98csgtl1zxyjVn/HLOI9+c8s4XJ51o04c+vXTUVy+ddFxyWcXFixL+ZJNPKPlGE2Flp0i8bQZKGadSurnsADPCBUASiXippZVaoomlFlamp75666/HPnvtt+e+e++/B596Tqavgvzwz0ff+vKpl54TTr7gRPrpa6mlDkZqQSXcT2KpI/3zW6He+lghQAIG0IDmQ+AA/g+owAQWsIELdCADJRhBCkLQgg/0X/jkRz0ugOFlB3AU8vqgDCpdJGYE8YMfGsIH5TWEEFlIQxpmAQo/MMIiFhvZn15QAGtYpA6UAoAoACAIG+ZwZNLggkbWAKtnAMAMx+MTRmRiMBAdgBUKwQJ8wNSbX0QEFFigiFtEQ5996cuMZUTjGdWYRkRlq41vJFIc3ShHOM7RjoiSyRA8EARTLAEFGLDAQEzyEKW04g9FkQIrSNgiNp6RX+p65Loiea5J0hGSl3xXJt2lSU6u0ZNvLIa/MBIlQjADAIY4gCaU8MED2IES58ECDzRBiS8MhBGg4BBm+IAGnFBEMUZ8kUmC/oGCVJjCmKZIRSpIcJFapAkhkmCFW1gJzAOJsiImwQIA5HAAUFBCGV2yBMXQkipqtsckLFhCH43pR1MQswYlnEhBnAmAPhQRnuXU0YQwcgyE2GEKADiIJlqTFj/h8z7nUEUq2HlMhrIAI7IoxTynYKBZGfQ+1mQmH3gRQgBkIS+iKZdFX2OSIRSToelMJzGBcM+IzOYSQymKHg4VUpF+hxgaIYQZviAsZjDCRnhhUUVrChsfnJSh7UyFKjgiDTJ8oyh5kNVQL9qWzxxAPMBZhD3zAof1SLUqs4qLRMIakbFSSQKpQIFR02lMGPSQI6cJFxukIUjvcKesELkrXYVq/h8eYaQQdHAmJaKxgbxMy6tooUtZhModgfhAoeo8KTExMMiOFAIOReGBGVozTeMoBaxiYgtNIVIMZnTCL6H4nVp+edinmMQRAx2IMgSXWogIbqBAccTQ3HJOtR5TpSKhBhAR4oUxCIulrjEJaSViW4lcQnB0HYhzQ7bX7jAqI7LIRBry4Bc+8IxA4WRtU0yyDU0cgq7UOCQAblDEc/xCuM9qyCIS4oeQbecH7TxqSk2hAZpU5zpY2G1a4kJdsg4EEjWjUjFQg5AxQMQXCUHFeTaFED908UUYrQghQhEWKzhJtYvhbHg1YhJpwOcMDVGGJm4QC0KUAQB3yd8YqFEK/gCA8QBfAEAZCIGG5A0kN9kwZlrZiQIUDGOZOqkDfBJCCV4iVqwbsYVv/tAQc5wBAGIgRDY9eoA20LMOnFDSQ8Tjhy/UgQ9/8G579GnCIIHCDAwRDDlFnBO5XFEToQgDTnjMioYIQoWFAMCJB+IqYY3hBqmVL2wtQEyGJlMcBM5ItziRXoRogxMB/upAhiADHWjArT85QB00kSQ+NIQXANBDQ9wAABDxAcEH4OdY9ECngUgDAMs4LnswLJGHbGBGmoDDIpCRl0N0dc46EcgZyvALSpSBSlFyhDFk4ptWAsCGsjhHLABwolWrSBZ+0ARoNKAKHPQRBR/wAVOUsYa6/s23DlSB9ExIukdkLuEDEiBYbgyhh18MghKmBkApCFIMR93hAJRQoUxk0dEDRAESLTIJJRwWob42ihW++U+atSLnY+ukGJrIg6or1RDr9AsAQxrIg4ftBBdLQhOauJhEThCMYDj0KcVwAymK0gcwQbcpwcCBSdOZTAXsYCOU+DfwAMCGhoiHz16Y8kAcAYBnHEAFpQYeKKZw4VWIFiLHcIN/dAfUm3TcJ+TN80B+AdBjOILGNSvGQe4wN6KciBmY0EQYrBNFvMhiDP5BCCp6zhSTaICYa10nMVWR14nwIekEsQ4rftEfAPDyeGmQxjEOmedVj0EahYgEqi9sMow4/mMKM6KEHmzodacUyOw8MYksNOHshvAYIZrQRrgPQI00gUIS2z4AuENlPACAKcQ9SQ8vFgH4HDvp+BkJwWMhG+RUpDsjSIcILhb0jcvyWRb5Q4hv8lwMjJ+SVFz/oBAQQoln1MG4hcUK714vEtmHvLaMaI4WANAQWeDfEdp2hGIItAMYDkBrMsFgho0pijCYqxuhswNAAqMyt2MKAY3APoiQBfthBkfpqjtghA1YOPhqJZ+ShYmhuJvKCEUwAwMJDWObP5ogL/vrlzAYPnPgATo4AOWzpz2ghGJYONozOV56PqeAKwBwKlEwgwaMN4swiaLCr6NCKiggglyDCMdr/ogdWIQD7ANQgJgGOxbgYwRUGogrYsFqoqpAYYQseCI19IUh5Ak4WIwlfEGKiL28awgEACjBsbLA+LgXc4QliiLUQANeyATrkBTGoIbLSghQ8IXWkMMnmwa0WqfpM6ZxGIKM4AOsIwglAIA6+IUlmjhDODleqINQ8IOHOB434AVEwD2N846Ks4hRQR5QeL9xcsE5DImFMy8qsT2EqAUXApKJy0FmSQitYgw7ULL1c4PUcsMDKKq0Uqu0goEpxAhQAIXacqa0gzwjVAjjKgZFBABK8DAICa2MWKJQ4INoUEdJOIRm1AnDwsWcqANLGQhqmJ7ha4ieYoUyDDVWYIT6/tKM9ygKSnADTPOIITgmlGIoYsoBjXCJiHCEamiFMiwGRmCFn7qML/BHdyQN66oImYgSXpI/1Yq5eDwsVkjG8WAFePsIcZDEJ0ypVAiEeNy1iQA0vmvBODJJkMCVARGIntwNOOHEhNCGn1pCkgqCl0wpYjoyjZC/ucARmdAPjsQPFKwIPKgFNOCEKMg7VmiDrGQE1mu9ONzJ8JIFNJinaDA4n8sIDYABkzKmZGpKXKzJhsAQ5EmIsVMLOrjFsqwpt+AFmEoIsaCyjdgBCTACHMCBIKCAYChLWJSIQ9AEL7izlwsFy5QEV6wKePTLORMGKxAiyQAAQ2HLjJCLR2St/nL8SF4QhoFRhmIohtd8zY/qy84cKqrgiy5ICG8og6iyTY7wSIvghSpYBkb4Avw7TkKoRbO4jd80u9MAkm9gg9ZID+e8iLpsCIG4KrzUBGPcCtEYSeuUqkLAOMnogizQTPHsF6vME6cCgA1bv+FaTq3gTPWcs2P4p7wUjtK0T+xklUxMBkdghiipBWb4vWTopa3gKvt8vTqwjiVbA2Zk0IGAzCfrMoxUiAOYAwAASIpYpI3wwYz4JdScUIzBjC+YEYBCA4MUT9W8iCgRxkL4Bj6gBvgYx4h4CGbQhio6gEXog2joAz+gR4JIg03IsUOsktosUdZSkKL4g19EFOsM/s6JeIhiUYgsKAOwyAMr41AqdISDQBI+gIMygIMORY1D2BhKgC2JKKglNbuCSFE/WEsqNEn/FCTyCxdNYIbLarCRxLn3pLUDMCV+HIiFOxV+EkJfWgyxdFODkgVfmCc9uItosc01wwg78NFDqAVhOQaMvBRScIMqOJhNIQRqOAbQUIY6KIZzcIKFS9SJ4LhGnTNe+JGwMBBGDS//JERZUIZM4IWvEdAODaNQY7UvTIg+oK3ROgBkIVSgCKrwIlG/xC0zcE+ECINDjNbMgAvo2tasMIkKhQhPAAU0OIYbsMZzBQVtmE+KMBjtWIM+QINPHEBltaIcu4hDIFRZNTuN/qlWJ7rReLyF2LGI31sDfkIeSkjWYT0hiSgDBAuwB8PBieCF9/kCScgFXvgFXrgEjeXYjfXYjuVYudlYkeUFkpWbky3ZlEXZlVXZlmXZl3XZmIXZmZXZmjVZm8VZmtXZnI3ZX5Abn8XYnxXaoCVaoDXaoT3aokXapVValQXanT3Zp8XYoB0Y/1rEM2AGZSjZSwDakQ3Zr/XasE1Zr03ash1aqMXZjf0FteXYtcVYr0XbuJXZjFWEM6QIZtipiU2JXODbOlBSifCdWrMMkHw1RmKDHHMCubiUt5kCcMCFQliayE2ayV2athGbvbncsgmcx60czt3czPVczO1c0CXd/tE13c8lmr0JG80tXdR13b1RXdWV3NmdXLCxXcG53dXV3dzlXdz13d393d7V3b8hGsst3tp1m+ItBEeYPHAMPEL4hdUl3umVXspFXuDFXsCxXtqtXN8Vm++VHM9tXdF9Xc0lX2aAHVwFCRwbjnOQhD9wi0+IhoggUI04hZLU153MBSByqm6IhXgsmb0qBJcg4AK2g3xtqQNohWK1KgDAhFI4iMCojpRBiB+NBknASYlIlW7lYG71YDo9tg4uIRHO1tEg0SQbyPngzycb4RXeCBL+4G5lDHBtiEbAy0VM2IkwCULggyaoPcf7g577Akr4BR7+A0rYBcebBYswrBLO/t+hMoYqoDSVdIvwHCoXnQhwGzW/4IFQkCU0A2GoiNUn3sk1mKcaEiT1FZkp3Q8fLAZA+4QAbALY/Cj8JePOxLm7pDA8mTM2vlsA2IQcVq34u2PbBEzBRAhJLR6vIgkrHggnyA1A8wJeWFVjcOJ3/NtC3klHGAP4DD/nkyo7BbhNoEqeGFFNVk9HEMUFVEI1BhQ/bghqqAaLXLVQQANG4ASfcmVTBi9Uts8iRAg3my6LamSLmKdZXNetqE9fVs9j0L9FLIXNwif/nIJKcDzHQ7pdiIJdiIb0FOPFYOYSJYQHvT1f0A5HXhVYJo0xDmfn/KEUXqRLRpBiNo42bWf1/lQKlIyPVijMNbbb3QApiajOey7LsqiFFP2DsHThVya94nhWikBngp6/CpmnPhCCKE1nYohoiLaNvuQF4/RmiZ5oRB7NnlNcVRHliCiEOvhXtLBncyiGZ/CLj8GMxK0NF5GdxM3Ok04KShWkgQ5jkTYn4MkC5tMDBKUVdS7UMzAEmaBWhBDGD3uYZXUiQiAE1HiWUhbqcqIKZnCVpwJlhnZkWWi3swxmhNgmoHLBSQgFiKAET2gIO/AFJM0ED1NOWOMFlqCKXJgFJB2IL/AFpB6IY/CFOhAIEhvSrdaRQjgD3RTNMxiojearf5YIGgs0WWAWPeAFVLgBbZDnmeDM/mnrRGVlBjZBCDgYjk/oA6XjZ6hDiJRJxkUYCO0bTIIoPz5ojU7WasV+jb8qii4wA+P67KrcK28YwKl7sQNwBGuUlN1OjDJkhoOghD5wP4KYAlCogz90ogNQbaWzIaIopQNwsezew2Lwg11gBl7AsewAgFmQBUUAhWcxB1pYU97GkmMQLuBIA+PaZd2gZ4oAiyG5omYhCPAmO3GKLUbQAwwJBUUQQCtoCD/4t+n27gPgARUiwG9IgIZwP0DLglxgBELwg0k4NXgtWaC270TJBU+Ij2VcZPSzCKdyGEqZgikCAC9oQOgwNlmgBqMbiDpA4qkzOJmIqIZb7Ry0tgMI/gVUGIhkAAA+wwx+ehVJaIINTWQPc+4U1w0UXrIDHO7GUGpk0YRZA4D5QAMMmQT4oytHiSKZEI/1xolDmPCtQ3IbAoVIGAhT4pMpCptOLAZKxolzUAY0OAN09GEtp5ViYAVtiA8+w2i+0miLKIbfQ4goILiEAJMv/4jmJJK4C4VDcQRwYzZY8GFTSjVtgIWUG21gawht+AMfdhQ3UAZQgAOFKwPI1oSeszJhyXJE342zjFM4C+rdsNPAjIY0uATlPjME/k4XVATJ8ANF/MViIYXLooRQ4TE+6AOi4DMAmF+BKBZgUwgS4jFgc6rmgA8tgI8tc4M/6G9f945i8AXm/uuDW4V01BRkl75FR3ADOIAEGXMhM5iCBBgoNIADrMWCE1kDrVKEM+iDUni/XDCDPhiDu5CFNNADOHD0A8ADlIP3Vbn4fnW9Ya9KyW4Mdv74RgWKS3iFVymDQ+n1s/DPPOgDPeiDPWCSJelN20AK5RiQeENxFjbNlKcVqpAGBUwIQ2jAmN8KpfZkvMzkqghookdloCiEMqhWUIDs6or0iliGGAJ7sP+9NMeLZaZ6Zj4GF0sIUtjvRy6OlF4ubxAonRQJQqjOQjDVY8iEalmtsyfoXCBn4IjQhXYMpcZRcTLwnOgEADAusi6KwYPVXvZ7grYDSv+POfDxdx+Trn+L/tEiCr8GiWKwslCwMD05AzRA/XwfiGXmabeXiMMWLeUAChSXidyQygQNdLFivVWdi+dILng6B6k8Tc/w/aTIfR32abwiq+Tv6dP06dO8FF+eNCeNBRbNDLjHQFHkA3fkhTvzA1q0JcbXCJTHEtDQ/KGffJGAUyfFNbov/IaG1T+Q//k/YqimCWc4A78T/wNwgy/qAzMAiEsHBhIcaO7cgVOKCh44RqigLDu8GBbD46aUHVkMGTKTWPDYMV4ZCzJTRMgOypR2HjqqMwbLQ4Z2Cm2s6egkyg2ZGOKqloUTsoGOUuJEuYNgIUQMCR0beAzNT2Y1D2RaOZEgQkJXna4s/kaRENgNJ2keKKbITtOCJ9NObev2Ldya58zFrWv3Lt68WAc2GSUFAGAAfuzoLWz4AMJMxOi2/RT4MYBQYZwcZmgGwNUoADZRAsBna81DCwd69fON9AE7AKqVHShrCgBNmgD8Ab03D4BDrQ9oklQLQFqvYQCAggy4D7PZn4qHQV0H8ESENb3GMr5I+hjAnQGMOcDIOGCaXlEBkO6VR5QDa7QD5oR44Dlj2QFHcfT+wBcA7r2mCYzKa2vMGEfJAY74EZghcxVzSGBhAFgZhBFKOCGFDMkyR2fFAaBHTBV6eEstD9ZkBxporGFiiWjsJKFXl12FRi0DMRNKdyIWw4sw/tvoEcB7lOlBCWMHKAJAHai5AYAvA30XzVwM0bUIYKy09gck+TVVTIsA4CKNI+uh8Qsz2/ShyUPFnAHAGq3p4QcosbiFUCtEOsIMNWemcUB/hkjlyHBuHMCMNMlFMyczD5YBykEHHcDHFJds+MsBhfABgH0H0HUMAHkUYgclepBWCmBFRgrAGbisd6cxpN3xBSNftAGAm2eA0goz2TFyACsApIHLmYSJyCIvwQo7LLHFGnsssskquyyzzTob7Da8yBKsLMUUgttjhxxTzLTPevstsdSsEqSHddHlYk19fLLRL2vEsoYk1OylhyaoEQLArYyVUS9BpUTzK0GGxEbJ/lVK9PEdWQNlp9EBzxF2AC8AmFFQJFkM9AsAtTxD4FtVAJDwAXCAQo0ouhWkBwDKEFSJCqGJwlAUevyGC0HJ+DEaQqpJdUAY3njVBwBwEDmQGAAwBocfbcHh6QF69EEQKEn2kfRAu4hRLsRYxBLLKFt3zbXXYYM99rtiu1s22md/vbbYbI/tNtlfx7313GLXfbfcXbvrrt5Y1MKKHMMFBgomi9TShtZuK9424283vjjZa+gCBsAMpQqgV5UbhhC6ByxSBUF+UD2VaJaarse6pg95q3S5hhGSW8KBkuvVBwwSDSf4BooLM8Nd9V2RXsHhzRqF/NpfMc9dOd0BcV6J/lB1R7J+AGWYovHeJ1PUVEYXzgQKaDdT8AIKH3bsXBBdjkTRByFoaJJkMVhsg2kuA+nBR2tHbkPRAb9VygooSkGIMGiCJgBARWv8EAqsMbCBDsQaM8rwGEqMoVIPxAsuiCGduFCmIBs8DF2yMxFzAIASjpDFc6TUFlSM5j0qSF1WACAE05XlMsQpg6imIrADSLBImJhC7owTikoBrzW/QJln9EQaSsBhIJRojltylRa6WMIz36BJkATUHUtR4mkFoQy2IPO0XGynD24AWH8A842jEOQOQ2saAgfSHwsSZBugIANBnICJwOShLACo3QFQwa8LErKQhpxKBxsitMdk/uEqmjNkYoiRyEPu5UxXIcRsAAMHcm0EFTwySNNSR5fVsWsNUAIAFBmCkB1uQxP4+0MfcvcKN6TBDW6YxDd+90aCEAILi7yVasKQhjRMimEb8YoU4XOAe0UBFOdDiBYJ8gkv3gYAtrymJqJBEFa4QTN/gNR7VGOITNSBD5BAjWrqd4A9RKI1/ZFGQZCJGeodgA6UqAIz+iMlABiiNajgASXv8sGAErQw1EAiYEKRhiYMZJIEzcQqUtWWYjjiFxV1xCV44YiK2qYwdKGGG7J4hjC0Ai4snFcoMpeaoWWOEWyRxXCkIiK6CEwjaACAHPwQje+c7wAiVNIbmcGIrSSH/kCLfIybNPebppjDK1hAE75aQ5d7xQgh0wwNKBjCB09QI4cHyF0CdnOIQf5mIpRRjajWRJA0gKKjfBgdLUhFkCj84QBdKENrIMGxgvK1r1jLBdACQ4k1MOyRF1TMQBkyBUowtrGOjYYxC6oQgngFNgX5zhcIsgPBFCR3D9uIwAAEG1DoIXdXypIuRfWcJBFkCppQBgDK4AguMeMPfkhsa3IHMj2EYkZNLIgffCbNlqHvAM8AAGIURQktSNCCxZAYKBe7zXnmDADqlCBByjA6I4LiVl7ZBgA6QRBBECgao+PDb/2q3vVGiBF/eAwfWGEL1ARUMQ6FGXgCo4mOUoiT/lNBRYcGkqtF0GIbhaDEfm9kKSiNYRu0OMZsVAYar4R2ILjgwQG/E5wDdC4/omrCHzRRB1nI4jthuCnIfKGlgfDiV7nKCC+OIUE/rScPJ3QEytIkTU8lEiGHIghdKBEJagAgGswIlsCm1zAAoEEWjmCsV+iSTqfoqsQAsJh0KJOrDhVDD144hpVLcYCbMkIWN80se9OsZr3UYjuA+UMdMEdJiEp0KtSAURtqASM05DkWt/IrKlxBw4GcEjCaqF9/ZCrBwISCMPcCGc8A8KCnasG0qHkFAPbnHZZGalKB8YMjMPEHxlAmYs2RRcbe45XfQMYKBFnPY/xUkFBoc6AM/toLJSRxgOo85gygHVxMvIJWgjAIMJ6ILELWA06v4MLNkD3AaxqE2zVTuzLncAJur10TRTFvOmvwNGD88Oc5E6PadznpRvK5CFYwrCUPKkQaPsewEqusILgYd1nqkAxacCKyhagDY3gx1HjaoROLiAkjejoQlAzkDFhgCC9YxQhGUIMWEK/FGWoR2YGApSaFQDNB0CIUNCwiDXT8CBtiYRtZfCGyhGADvkniVdKwYhGfzbchbm7unRtGcyLaILn8S9+9QDsNbt5QsAupGMMq8wC4KATUoY4GTfP1FAHmeV6coAcIYL3rXv86QcDkjI3IghkKR4zZAWb2jW+EF6XI/iRgprDhB0KU6aQpdGByCegWqjIu3KZ2MXQO9rbQ5b5wEfrgE9+Wc8jChrmxj7C3AweBeIUZ0QCMJB5CmR1g6xMxmgpjHDGGbzxGU0PHmmIOf4BcgOcMdn+gJ++j+NnTvvbs9QqUzrAGKwCgD5X3DBayoz1oK8GavuBBKDRijOEswg3vXZ5bCiG4wJhhZ68vzNLjcqQEPHUN+UnT9RmICksM2vbmPz/6GYgQjKXyMlLJDs0OcKSHqKYNA6limlCN17LcwGRxwcVREYcVVEr43UXdxUV2aEVuHACC8dchTVb6RaAETmBlRIRG8AelNA3+eAWRSckcuQYqrR4AZJZX/vzBXtXFMSBUbDTS6UVI6r0F9ARNMWhCNxSCFwDA1QVU7FEgD/agD8IFL2iDJlTLN6SSI3DHAUTDXjmBbR0AqFjQGSRfXtgBbOjXGjBUhWQfXBRCcdiBBIVCCVFdQQGYKnFS5agUXGTOXEyb7WHJ4iHeWxQgKP1g+nkFL0jCahyAMMiVHYKCr0kC/hBEH2iDTwGARiBEdpycXdRBYGnHKFCWC67C9RFCH8jCgcXGMjQdQcVendGhJ36i7ZXae80CCPrad4FCP0nCIBREH+BPFhgiQSQiPdmFeTCCNsCXCs2iYbwgXDQBLTCGMNRBHZydDvKdT7kaQUgDHJBfQTiC/iHogR6UQVC0BSfAgTXCQR4InoRMC4VQVF3wiczI3sWUwZ3ghTLAAVvExRrUCC/AISjyHAR0ho5RDywRhPUcQBTKAl3IgibgVTJVFiUY3l3sABpUwmNEQ5xBiBa+hWqwBkHwwTcoIiVZHSSaBmrgQVQ1CS4Uhx8gUVMMlHDERiiQAmBMxm6ICGWwYTy1hixQwn4kl3R0oqUMlESp1Bkg0K9g20xayoFEA2sEiVdcA2AoYqJ8UZPIwjcEz04SHWqUwbqcAdNk2wHUGUK44zsSkjQw1tXJSr2pxq1sGYvJlYDcSZBhAou4ARgGRh9oowFKolv8QhiMgdBMwRgsghks/kJxPIRVOhC6EcSPqMXQ6GR2pIU0yIbmCMx8FUMTZMcjdiMAsGVx1UU0pNdbkFZbSIIkUILFyCFenAEgHIAKxNFVeh1lTAIAzEFVKAIiCMNXISEvsMlEMEMXwIFXFA35FQMl8IF9VMc8gpBrjIGGAAb4YV+5xc7lAYA3DAjbUVKgQSK92EtGDsS+1BuuhIF/pUqFPWS9EIIf8MEfuIlPhQEneKeUONUgaMMfjIFGjEEYlEF8vRclYEEdRAMr+MEflIIswAEf9EFTvIE2vFVahIEVuMFbXQ9w8oAebAWWpMEfYIJsFYMk3EAoUNNHfMwZDBJCfMEf8MEsoIPFMIIe/izCINyKH9DfhvqBvDihaMLBxISBJOQBKWiCHlieCmWCH0xLH5TCH+zBQKwBJgwCf47mIXmFGxnH50kQHxTHrVDGevBAZ1gMxwHGHukBZ8LFNvTCDZBeP4mjXSzkVDjCFEyKFEBCNJRpGaRoX5FhIr0QKA3JDDHGkAzCGBTCchZEdiIEXubOJ5zBgfiJBGlCGExKkVyGH7DBX6QJJACANpSBHeAhKcTCkeTGe2GCH+CGHqyHHyxCZ+zEgXxCGBSH20XGFDAMZTBIH+BGbwENKDDJShKQMRQCp90LJoQBGDbRkXzCkJ0DvmSCZ1zoxxxAHMBiMXzD04SBH4hBcaAC/qaImQhqVNyJV3b0gSHMxooIaSE5AiPUQasIwRcIgQUJQcml4zLJgRnoXCHMwRkwQpW+BRFIgAKgQAe4wAVMAxvlxQFuoR5A2npBoJp8Al3EEL6dg4YGhnoyT3bSxSiAAihQE1vhIwCkaCXgz0u4RijglRaQAoCgWmapWPDQxkA8FZoQhCR4Sh9QgkbgQqr1QXohxBGWIzPcwMOFAmUSBFJOjBN0SuhwDKz20XrEBKopQhx8AkLIgiRcz6FkTih4SqA2jaccoaypBi1EzMRAGwA83EDwwf5Zq9a2xRDAQCqkgiksQdimAgwMwW50aXHWRS3wAduWgb5uojE+p+qM/iCX8kIsCI026ZCkKZOKEYdsyAYAKMIZBKITZlVDrAEczEY/SVdY3kp/XCA/DYQQ+K0mgEI3kE8x/AEggUKaqKxUHcAoZOBA/EFdaYJogtJNhQJmakJEDoQmbOYB9IGnuIHhUu3akqWleEUZfIPKzKCnGEJdQeMBSIOuLFymHaHV/gaChUImbS0kYcVe3kf0RggRJEEqoIApZK/YogDZ1ivaXh8bQAYo0IRKXhAqyAtCeAVvIYawyVBrKEMfXA9BHAn0DQR2GuI5FANlBJYUoIIeTMEhGAKfJI1X0O4BPJUrTQEoPMMBuBZBRIzjZuBzQZHHCIb/osIhpIE5/IGv/iFGF3RuE3kFQjwV5B0A6fLG6SKGMfiBJvjBIAzCgZSjJtRIA8/uAoFgLFDC9YjIofRu0vIM/ggv8ZYj1EaMrFUHNOoBKpQBszqvEyNEBYBt2GYvFXNvDXDpW9zrW2BKF4wBK7AC0AxfmsYtLPaodWmWxxLEU4lrwCCXPYLCIexCegkcz4QCFvbBAoHC/o1PP/1lWCKaBGcKUAGA/d3fQ/xBKnmDm0wmQxCZqMzgIhwAD5wuXcCqrA1EZqYKJVDN+OCVG5ACzRKJH1ATHPiJyNhv0OAjISrxn1jTxxoi8g4Er6rTAVBDDjqxte7ACmgvL2Nv9gYBEeAFL77FqdAs/ihoAjE+YAtNFW3UAiMcCSUUwzEQ1phtiDMfCR8YAy9ggTFRmDWtwRrIAXFsw02dQSvUAigs0JmoQCtkh5+sKiOsbWwdACQMUsQIsIpBniDjCijcohtwQp4cgDZ08AGErB78gR2ICB+QAhqwAsrQBCggkHSskujSxYvhSm6swXv1EVqGci7cVBawwmX4SScgCSswSBMtrR4AAh7gZnytQWc4mSsPxIGsASP0B0Hj8tYOARX3NBWLrSmwgDATw+u9YvCkyqTIy7pKyPnSEEKggWYAhh7QzAeawxrAXSRAyqMxBO8NziGIx3wIRlO4ZxV2MCNoiBn8WBmkh2tMChyU/lVZgEIk908BIZSDHIAkpNI3XE+urJjpWJ6hqRAlZK1B8EDeEoQj+OFA0C4q/YGnrEHtaiyHBYasbcOBBI0UpLSupdEv2MFsgIKLREyM2KFd67TzIgQDZC/2ii1Qb28qCHVbMh1C5AocMAwhdIHJ7t10gEXCKENPyYItJ4y1kB0E8E4hiGGBMEV2PQ0hxJ9QEIJ40Mw20JEsEII0FINzO8O8kUUhNDdiWxCdOgUhAIxDUJ002MY54ALbAYr87cRE/MHEbINzRwobMYN1L0VTXAKkXEKlWMK2HMAvEAJrFgJdqDdDdPd8m7bW8rRPT3FPC3X5FsQwg16BzEYUkAG2/kxtmvJIhBPSIWxXD8ZwLKAMZCq4iT/QDgQBLwN12GIvFASzARJ1XdQB3AGAJDjgIY2fYchkYQAIXZzB00zvVEQ4j+NFhCNe+pBHbOQi1nS4kJ94D9bA9fY0UFuxvbqlW8iCdPzCK1gjKyw1+qhkhPOreskCcvvgRs0XlK/5IRHBB0y5L6MA9yYBjMf4WxwCH+xwtfUlm/e5n5/fELy5T5Ot2dqrjLfFLdJwovxdXPDCIbDdiYyIdlXfWzS1QP55hDw5pm/6XRBBBSTBFAdBBdS5MGP5VODhJReGZZcxQXwHhQ7Ec1ACbphQ+RUEn3M6rue6uZ0DC8jAEHivob/F/i3+QR4cgrEbexmgghkwnTEwwmdb3EwyA+nhFWMgRDQEIq+6ybSRua53u7enn5duxC3mF3HgOGmAQhi0QRdElgL/MJA1cDQ3BAAweSfd8rffO75/nRbXhCDQRh7AQRmUwSEE/CEsAtMp2HNc4GTbQcyI4yNowyagTG1320mhoUTppKJkfHLRl5yd5FS2xhrSF0KMfGskj1dgG12oVJMgREoWnul00L/G/HtwW8cDyMrvZFOJB/U0ycdv/M2LMLddestrYlWyvNG3BnTvhk7K3kRD77vP4aAFSSJNvXRo/FHKVEOtoUptfcl3Pdd/vdeH/dZ7RR04Atiffddfm3nA/se/MuUGvf1UNEGRUL1BVH1Msj3eo33HY7zRp3zX58IWvAUeluNhfAfDqIaYaUIcFESqZIIrHUolusUhVGu10Tu1vW2a2QHlm1uCrxknSGSaWa25KQITCHvx9tymTcSTCYJGTagwkAsl/IFX8Crs0ixIHEM0bIEvQMPu9z7v/77vBz/wD7/wF//vHz80JH/y934DAEMpED/0Q7/xC//wS//yH7/vlwIVTP/1+370e78vNED3V7/yW//uQ8MVHAIVXEEDeH/5v7/yg3/1yz/9j7/xc4MhXIH57z/39z//9z5AXEG16Ao0XwYRHlSYkOHChtAgRpQ4kaJEX6WmXFl4/pDhw44bH4IU6fEKFSYHUKZUeWCKpjkrYcaEyQgArwNZAOTUSQllMZQAsByQdaAPz5W8ln35QidLKadPoUaVOpVqVatPs0TidpVrV69V81z8OpYsVV+HwpZVu9ZpFkNp2Mb16guVIbFy8VLNMmVWXr9S0yziJpNwYcNfAAw9NobxGFB81qwEECYlnymFaxnWvJlz4S+dQYfWzEx0adMoFRU6vVq0NNavNX+xCZt2zDa1cavcxih3THMHOAHYBjOUHpSZzNg0A+BMHT0ACMn0iWVo79rF0FQvfS4ld+vFqB1wUtv7gfKmjR2oEz396vLvu8dHeb6wrGPmrb/22QYX/v78p7mzJajx/nOPmSoKnO8AOwbRzqdi+jgDJUYoyeSAJsbQBAApWCFsvDW0S1A07oqpxafQ6LPOu2LuS3FEwrxzUbM6wgMQthhlkkW131YiUMTCuKuCtB85o6+YyPzDkUjCfJKGtyVFc2Sz4aAsLcQqO1MGy864a2KHLUMr5kQwN5NlTDINmw1Nw4q5cs034YxTzjnprNPOO/HMU889+ezTzz8BDVTQQQkt1NBDEU1U0UUZbdTRRyGNVNJJKa3U0ksxzVTTTTnt1NNHz+zOnPMerPKcUf3r6YBQS4Wy1PJGRVWl9EIV8dWU0pM1JZ9k/JFHlNpjdVUwz4z1gPaG/q01wVO5+xVYmIx1NVmVTk3109OUpbNXaK/t1ttBeVkEFj+e9KmWPzz5zDxz1oBlCjuOJfKYQ/6AY8cD0IDjkEP0UAQlWcTNY0gRf8MFDkF8Geo3Zg7xI4uhuCsEDj/G4FXE9Bj5ww91D+BlXzpQMeNETvz4o8Mqf5NFDCnTy6UPP2JRkBE/JOlw29x8cuSMX1BiRt9DUEkjpVhg6aOOA5zNjztG9uVXXVnGqFe18YQxww+BifSJrkPoOES1YgzRF448qrOD5jWy3VIWPgDg4xMAzEApDQCi0BANlMIAoJJQAOD4P58IAQAUbXKK7oA/BAcFlGoO2MYPugHQxLWb/lnzqRDFpQCgD5QQ0JASAPz4LRMeSIkCgGiQ/tEXACj53A2UagHgBsX/GCqWyN9+Pe3euHsGANUOoEmTzCU84HZK3p4l9R/F7AM6lEpJHJTLDhgDgE805I1y1n57TnFQdI+k7S68UU0WJViP3BmCD3Akp9lB8ZeZnED5hhQpEQvl8+LX5G71+w4AB1BsYwcAWARK4KCJA0gDAGNYlR+MIqIpUMImv9DEH1alCV+shBXPk4YmHPgjP4DCJzTJRQABwDOa3K0lTcDX87a3GllMBiWHSMwB8gCAM/ECFHBA4ACXlB405KQ/B9AE9c4gim2cAxRlQMkZAOCjBPnEegCo/lE0FKiSQsBtVX+gBLIKVAw+HFAlduhbxyiRhwN08ISOAIUhhvUf7rgvMypZQ01UUgw/wMIWB1jdwNZ0jFGkpA4AkMYdADAkMzKjg8DLBQCk9DeULONoKOnDNxYEHUcgIyV6iGAcKJE03h0AF8ArZHT4gIqUUOKAmhDasQCAjuX97RhUogMohhIHT7CIR+6rJDUAAAEi/WaLmuiCanyJElwAgBHLNNwWPxNDbKmnbQCwBEoA8QwWpWQDALAQcPAYxgNskRG8SEZKwgCKlJxBnXAAwDr5wL4O6khKPgnDN2SRieq4L4TFAB+dxgMJBc4tkoGzAyuAeIBjnHF3tfkN/g/pELz0AaAMPokC6nxiiBsSiRoCFEPjQHGNYcEhDpcAwN1Qog01SpM1rOgDKDq0DUqEwgusiw5NqlMMANQxQaMqxh+UYAdvCDM4wOMFMwsJwPm9Doy98ckvAKCH4ITHGaCYKQAkoRpfaOJE7kPELEepiInqYSh+iEJK5lYMPUACrSlcFg4BQLgGIjBykbsbAytpREnIiUBzu1sCIImShR6UhCgJ3JNs9UBN2GQNoDgDGuYmoSOmZDlu+s4BRmFMOMjiqLzxSRmmsMW7+cQPTmTeAdgQClCU4gDMCEUf0MCKP3A1dmO6AZJ+VAYAJGN+FhqiMIXyDUYUEngMfKWI/vQACl4I4Xl2AIUWYquJeGYoJUc9GktLw4gmogELANDC4bSBn9Wp1Yc+IWiC0pPABLCCDTs9gDZ2sQaXJvKohjPiWeVUjE4AYIMHiF4kgUnYEwWOE9b6Dy8ed0KY5O0Au2CrTxahwyoxAxRmaAIzhwXaZd6NO9EwLZQQc7KUQLUWNBnTN3D7n/QE53WZ+N0BYgfAJohiuN7sGQBeh13QUBEAd1jji1eyUEW4IYsdA0Bel2S9A0wCEykZrx58iBLATg5KU/DDSowBAEPM0F8okW6cziEMVOB4WHdkhhPOgQdvDtERvwkc8ESUCUqAIjo+4eywhniAaMTzs4UVkSOG/vJZTO5CDsP6wyuc4I3RFkMTTtRxa06kUyeSRkw6NYP7+lOM+d1HlL1B3C6wFzk3zO9rzmBm4Oq8xcx0+jo5oYQmNKSJmFG6GO5DAzVuIItRBS6SCZIFz4pxjkcW4xDq9MlyDqCHs1KREg2lDS9k4YShJIAnjqj0AYpTwJj5RBNkhNMUbmBfUmL4AG7QYeDUhewpdkwTfjhTGPaKElSoMw2hOFG9esqdKKgSJX64sllRws8DAIJ68wtKgdJzDJje2A1HVRcyAGCHGYbQ3IAsECtKMYY0lAEUYYgOALIwISvOEEmtSKStsJAGjcOhC4dgxga+cc5MMkPVeNuoHG8S/k+bv3A2esCg9WYjiT0QSRJRPtwhZAGKg29jrh037PPgNEQ+pMEMZDADaR7nCznQ8ABsc8Ny+Jcg3YZhDFUXWgfhsIa8BWV+fvCFO+HFatzg5AxYeA68lgEAOLjhD98gzSgm44ZP4PJHTUCcL+agCVAogxduSwORJcEdd6ZhbnqQ+3+W6ZoD5M0M5lYCXSkPAOpBiSaqQYYmAOGG1RlHjzimO/vMOIk1RJgMHRucG3LYIffxwQ3uLPCjO8NjM2AB7kQBQCnWsItQ2CR6i0gDJbRh2SplFBR80wm8CuE8AJBNsI9jDpFkEQVQ6OR6KFldTo5bCw2dFEr7ZR1Pz08J/vsup21x/5EjnqM5wzHD+3oY0i/yj6y25HKMSrdOZ0jwLye0QE1O6ws0AXiOARNyogxmI/tyIgwujzwOYA2szwx4ZBnYhsxQghXepgtQinlwAgBI4WS2If/+4KuEIodABwHkRBYc4Rd4IQcZEAE0TyWYodd+xAZ18Be0YxuYgQGFghmoBEp4gRlcSCWa8Amrixm0ZMIsrrWAECWk4QqXxBysTSUc4Qq3kFgYUNOyEAuxRBaYgWdUogmOcCXUUBiwJAyvBAGYIWnC8FseBfj0sA/9UE4ycE0C8Q8JcVP4kEwOsRAVcREZsREd8REhMRIlcRIpsRIt8RIxMRM1cRM5/rETPfETQTEURXEUSbEUTfEUUTEVVXEVWbEVXfEVYTEWZXEWabEWbfEWcyNWqqVahulPmmpSUsRI3MMcnE0/oIUXTUOKcHEZ/aQYmREWc+YYpDETpPEYpA80eIEQuDAl7CMZnHFNmIEQkNBOZIEQvmk1wpENUQIZCGEJjyEW0ADOoNAc04YZRoERqjA/HIEajoEaTsQ++vEMOYMZqGEcnxE2fAKKyC8ndMc0fKK9Rg/LDiDvvEAgUWIQkfE/HicyvlE/SgFeNsMnOkjnVAJqAGgzJAEAOBIl2KZDCgFxcsIb+qDXzqEY3AkATnJX1ugbcsKBsmUQC0MLAEAUyC04/sbvw2TiPHjRedToIK0Dij6hD6KhD6gSsbbjADRqcwhDeK7QWbblVxKRMNIDcVIsJXTlF2NCipRxVyAh4gxMRjooglDiEhAnPGolRRDnDVTic3jDdDSn/0plfnLigOjDHAQBq/LAKs1yJUhlMQtjCgCgC/QOJXTrKONIJw0jC1TgdeTOWTpyGY+NolbCHHhBTNSkGHQQDlMzdSLsu3Kwj+IjOCQnJlCTFpawY2wCNWeDFqANJlYTJXJwVYKTG39zJTYSNw+A8WaDs7SDNG2Cs5CQF3hzTFDTNFFz/ITATIBzOKHQ2gqJJH3ikY5MO3QQNlcCFgBg21Dic+xArEAB/iTN7cV+Y254khLcxBG84AZe5wB4Ezmrqz97ojc560RyMFR+Q3zGzxPWU3BEcztLkzhnowl44QsvEzfHETpv0ymZ5ACgCCkPALAk4XGEJhO0DxR84URY4XNyQg/YEIr6QAxygg8G5jeEpwfjJRm8DxRe4gBsYfzEoKZIoQ6663rqbJzoQCf0QDV4wXTMACa5L0V1Ag7GEXHQwBw0hA00xBuE1NUqKXBCYW4A4BtuY1U6YfziqpKsxw+iAW78MidQ0wAnQ2GK4Qy8YUN0C796RjLHb3OKwTFi1G9Qgiz38si2CG4iaQ1AxDx+avsAAcN+hRnqVDJv4ABMBxV4ABRU/uMY8o+iXKOQPkEh/4AQ8q8PMjTZAMATFEcJWQdxTAsNrE8SDKeDMMyd7NNUD0gW8mZFc3ONQvCfNFQzoOgPVK4UzMAOwDQnvqAYPocSbAgARjQnIgRaUUKjwpTjNAc/uCPvNIEGofBzouAmg8KfVjQE9W78apUX+KbRPmextqEbcsIPPCEn6sB9ACAS2OlaeYS0TqoYrE8PyBUOvHUoxDOqvO9obrJhcoI3Ikwn8iVG+8AcvOcQ+AYVzGtFvU8uHQFxbiAK4sYA4UD7CkwlqDSO+NL4IicKxgB4fkOsEsl3IkEnHSElr8c4yPUTtgEZzLUMPKcYzCgnBCgnNOEm/uHoPMYsDzLnGGgCDtrLiWRVBR4HFEgDYrHqjgCgFVDiOT4KMinqc1DnhTTnJiUEKHExIRfydGZBcNDgPu7oD7SEEbpgE7AjMllBFjgBDtLgN6j1mqyHD6jkN2SzB7UGdMZjJM1EQ4SGJrjI5E5ubmS0Y9imYkzHiWQhc8bAPRmBbuHg4MqDShnt+4Dp+zroG+5DPONGrShKMLUnb35OcFihloqBFI4skzShP5hBQ5hBFiihC6LMhnZhJVj2hAoVQbCybVZCUFcJw2ShDFQ0J5qSQ0HnAAKnC6LTdX6DbfhAGp33D+SwEEyndQXnPm4yPHTrylbiOQxBt0bB3PLA/nqcCHFY6wBsKORaa/zGD46u1oDmBxSOhhGUQAVK83PIaIhO7ldp8wCWg1wYgRFad260kiUA4A/OIAzC4AYAABFkgSh9Ng2qA4rId4goSFVq1DgfOIJzNTo0JDoe6QbCQzClZMzgyCeiRxIcgW1iRmrNYIZ0ogzSwDxT4nHQoHMzo1BJ43Pvw4xu4JuiRw8iTBJ4xIyUK3oiqHPhJXY0IYLRQUMaLic4SaJIkjsW6nlwQhsGTHBIwzsQRz0PoGQDjhPSIARjRhY0xAwIgRNy5zKboBLSkyXZTyi8LsOYQ6yyKMLcrdyuNSXGY8zMoIOkAHFyAeyYTu/C4AycJ4IE/pgPtOM5suB2MEhVDiAXvgFTUUIZNMRmCDgmoIgyVGJuhs4nnMdMBwcToqMQzMBMWWc4oEgPfOJ2ooABuXJVxOQAHgd2BUcbtEE1+OZoHgmUC1VKnkNCfOKOMEEaaHhVzPcAkMP6WAcJOVdDMgMCckJKECEnwgORQMFCzmF1+sCGpqAmzcGJpWFuyFcoNORoOoiWo4APYuGoBpgmSPI3PtdfIqwPgs0cAgcUOC1QVTKO2EYIOsrbiA0AJuHHynaQuTFzkGQQAOBkeOFtMsMncugMzEgThiLCpqBiGzglxMcKBhaSrAcd9NlMPyGVUiI4NlZNMJmBf5mQAIAH7vAc/mThbe5GbG0xNMtrWBg4JXIIlw9gyHiDGdIAC5SBFrBg/IJCo0raeABgF2bDJ2QzQ20IDnzCDrDAs+Y5k8p5nL7ZeRt4Tc+gCT5ntCDTDDJhFtxAFrZhDezmMlPyh7kZrQMrcKypk3Pi4Do0eh8BJbpLgawn3jLoeaiYZ3jBF+Z2G7BYbohXJb74PgpJFIoI8LhKJdypa1tLQ+zA3OisJ5zHONypEg4BDuAg/+RRFvAYSQinQ3zCnYxDPBDHDRbqswM6cE+aO8ZMDGTBXQHA3l5hMoqBJzt6DdL2xnL4Ip/DDICpC9YnYymhENB1jws1J0sZJcbjFbzhwyrWONKj/lDLgBXYBoNix4DqIAvG7z7oVA/GQ+pmYzzyDhT6QA+gTA+a4wJrIXOuDI5vAF6S2UKWOZMAABJq4RAo+BiUVRS2TQ++YQwQ1xDeO7510oeL4RNuIIjTmmVHl34uQkPWwBzG7w9iYZaP7yZOhxuPMhYQ4HP8oBZuUkqgSBO+LkbjIxmYlxH49YHXAL7nSkF61g/ON9ZsUEN6KA7kihCUISeEt9++70S2QQq8IWYOBwBESiSrtRacxxscIXC6QUsW4QauOg1u4KTljYb84BtuwIc61Hk1YQ3AVMufww8EGKUo/AyKoU5VoBbWNBR4xp0+QQ6w4HP6IB+/W0Gg6LtU/sV6TlqAY7SI6E8n5FejosEnPHs2uCM4yrYmKP2BKU1eBRsn/TqS1E8n/okXNKSGnQeOFFIn9lMlMBptmPsAvBkAaBCwizhyYFLvfOIYyJU5QnOTbS4n2vltciJIUeIXgp1wigxpIITHiZ38wqBWfIGWAcALlgEl6mB5BUdorAcULkFRqydy5PBfTHxBeap6aLkbPqOQCkuQKzaeUwIynWhh4Ui3DkEoNnX7fCI+T2jMDMn41IgQ1i9yKokXAr4PbLTRUyIZSgHJDoAaPnIlcKHsoNoHyy5lU6IQ0qCSHMEXasFZeAELsGANVj4WsMBExikLyABtLpLlbYIWEHUo/iL7h6sLC8ggDSLJHGrBDSKpDkpB5gqh7NJAHgmpFFQDDYheKEbBF7SEF+YgFgSWjKvBDEIWWKrADMagRhQqDRQMvN0gC5BEFr6uFICwGM7+GHbeN9PACr59QqxgDMRtJZhhFsAe61VCGdAgC8bAFw67kyv+KFb+NhkBGoakFnwhCx0hDTqBOrQwDaogYkpBXY6hFMo+JQihFPyl5LGANOygFOyLEbKgWFPiC3zhSSLbDfqjDmbhm9TeCmYhC6mBDMag6yW+FEOa6Xs/+InERXpFqH3DwETpPDwTJpQxI7mFMH7FWZb/1O/jM1VCV9aF+HFFJpoKLZlfRixGM9by/kxcZPxFY0ycHzR0pfllAvuFXxQdAVFL9f3pv/7t//5P0frxf//5v//9PxYBwtyBgQQLGjyIMKHChQwbOnwIMaLEiRQrWryIMaPGjRw7evxosBjIkSRLmjyJMqXKlSxbkiwm7Zw5BNKYySJ4iRkzRxh54brZECazmkSZ8eJYjJlAl0ybOn0KNapUkno0HcgFChSAPAOLKfn2zQtQhb/cIBQICUCsAyIXOgKQNa7WQxfbimQGyszUvXz7+v0LWKPIOgDosgKAGNSlA4QQIz5qrOC5A+bOFdIE6oDMzQT/AFjj8K3j0XAGOiE4mWDbg6sLwgFAKLDs2bRr217pxA/s/gOcRhc6UArAjccFj3Y9wAgAn4NAnexYOpBXZISOeEnzvIiXo7HGjCP0nlqWd5G99bC9jT69+vXsBx5TfrS3pigAzIZRDsAbLbZm/FDqA9oBaPCRVR+c8NIHHGn8QdcrcNQx0BqeUCJJGGMdpFsaBf1yxh+f+OGGSLzsAUkVekThByMDfdFHFP8FeAAt34DyW3s23ohjjiqJxAYAYQyU3B+v0fVJfYhtc0AZiHWB2BgHjAHAN8P5Ihpi0RzAR30HdJIYYn2cZpATtkgCQCnnOaJJl1sdwMtojjlCDWI8aPVZV2SyomOeeu7Jp0RK/sibcnIAMAkzAHRxGAA7FIJY/mx1gBIKMwccxodIjHYRjRwQHEAmGrJo5csBhAEgaWqq6eZkZIYoJ2miueyA2BmihgJAHYdRIs0BWejhxlJnAIBKn8IOS6yOxfQBgJPIAUAJNaB8cwgAejQGQDHB8aHIBnZotcykyg3EKKkE6caIHcy2NdQOCMmim5kDUQIAGgQpCUcxiNU4SK3UduOHGXYctwYAfhRLcMEGyyaLZ+725gUz8GplhmjF5AGXY1FosoG3UkwWLi8yHQALAOV+a2pCxZDp5Gme4XlTGtLaC8AxA2kT7wHXkOmYrJMF/MfBPv8MNFN6AJAFkABocsmvWmGBAGLF+AJAFM7IUkgauSBJ/im4iPE00MrvgSJpMYaYIfNByoTsLpZljgvAIjCXnS8rzMyBSCGMLELcAW4A0EfQfv8N+EYi3QfoF0crcxgoovzC6Dc7iFZKLqvi6i0lrTiCy9Zsy7sJAHB84TIA1CBUTLvnDcpDLHWYgZhNUdZIcx1Qa1IHNXsDYFy0ygbOe+++L4SF5wMlygsejh0AAWK/nAPlaAGO2rZoPE2WpVnmjqbhujR3UpCSjn2jYZsxvwsAK+y6adYBshSpyO/uv+97m5rwhMsYvtzkhhW1HOBIFmm0pYgz+OEMoyMIK/pQhmPIwn/qGggazFDAQpQiGoaAkEJiAcGCOMEOhojGGGokTIsxjME4WBjDpmTRhkNEw18E2QYAuvEL+Mlwhj4bHAD+ZTCRBMxJJaOhD3+op8yZxzY9pEjpNIEkICpxiTk6AyiSWCyRZC5tTLRNQAAAOw==)"
      ]
    },
    {
      "cell_type": "code",
      "metadata": {
        "collapsed": true,
        "id": "k0FU3gd8zo2I"
      },
      "source": [
        ""
      ],
      "execution_count": null,
      "outputs": []
    }
  ]
}