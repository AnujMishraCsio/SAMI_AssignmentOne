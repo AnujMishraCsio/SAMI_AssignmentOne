{
  "nbformat": 4,
  "nbformat_minor": 0,
  "metadata": {
    "anaconda-cloud": {},
    "kernelspec": {
      "display_name": "Python [default]",
      "language": "python",
      "name": "python3"
    },
    "language_info": {
      "codemirror_mode": {
        "name": "ipython",
        "version": 3
      },
      "file_extension": ".py",
      "mimetype": "text/x-python",
      "name": "python",
      "nbconvert_exporter": "python",
      "pygments_lexer": "ipython3",
      "version": "3.5.2"
    },
    "colab": {
      "name": "probability_students.ipynb",
      "provenance": []
    }
  },
  "cells": [
    {
      "cell_type": "code",
      "metadata": {
        "collapsed": true,
        "id": "hY9oqVZTx7sO"
      },
      "source": [
        "import numpy as np  "
      ],
      "execution_count": null,
      "outputs": []
    },
    {
      "cell_type": "markdown",
      "metadata": {
        "id": "Fen-t8P4x7sD"
      },
      "source": [
        "> **SOMETIMES THE QUESTIONS ARE COMPLICATED AND THE ANSWERS ARE SIMPLE **\n",
        "\n",
        ">*Dr. Seuss*\n",
        "\n",
        "## Coin Toss\n",
        "\n",
        "You toss a coin 30 times and see head 24 times. Is it a fair coin?\n",
        "\n",
        "**Hypothesis 1**: Tossing a fair coin will get you 15 heads in 30 tosses. This coin is biased\n",
        "\n",
        "**Hypothesis 2**: Come on, even a fair coin could show 24 heads in 30 tosses. This is just by chance\n",
        "\n",
        "#### Statistical Method\n",
        "\n",
        "P(H) = ? \n",
        "\n",
        "P(HH) = ?\n",
        "\n",
        "P(THH) = ?\n",
        "\n",
        "Now, slightly tougher : P(2H, 1T) = ?\n",
        "\n",
        "Generalizing, \n",
        "\n",
        "<img style=\"float: left;\" src=\"/content/drive/MyDrive/Colab Notebooks/hackermath-master/img/binomial.gif\">\n",
        "\n",
        "![binomial.gif](data:image/gif;base64,R0lGODlh3QBKAPcAAAAAAIAAAACAAICAAAAAgIAAgACAgICAgMDAwP8AAAD/AP//AAAA//8A/wD//////wAAAAAAAAAAAAAAAAAAAAAAAAAAAAAAAAAAAAAAAAAAAAAAAAAAAAAAAAAAAAAAAAAAAAAAAAAAAAAAAAAAAAAAAAAAAAAAAAAAAAAAMwAAZgAAmQAAzAAA/wAzAAAzMwAzZgAzmQAzzAAz/wBmAABmMwBmZgBmmQBmzABm/wCZAACZMwCZZgCZmQCZzACZ/wDMAADMMwDMZgDMmQDMzADM/wD/AAD/MwD/ZgD/mQD/zAD//zMAADMAMzMAZjMAmTMAzDMA/zMzADMzMzMzZjMzmTMzzDMz/zNmADNmMzNmZjNmmTNmzDNm/zOZADOZMzOZZjOZmTOZzDOZ/zPMADPMMzPMZjPMmTPMzDPM/zP/ADP/MzP/ZjP/mTP/zDP//2YAAGYAM2YAZmYAmWYAzGYA/2YzAGYzM2YzZmYzmWYzzGYz/2ZmAGZmM2ZmZmZmmWZmzGZm/2aZAGaZM2aZZmaZmWaZzGaZ/2bMAGbMM2bMZmbMmWbMzGbM/2b/AGb/M2b/Zmb/mWb/zGb//5kAAJkAM5kAZpkAmZkAzJkA/5kzAJkzM5kzZpkzmZkzzJkz/5lmAJlmM5lmZplmmZlmzJlm/5mZAJmZM5mZZpmZmZmZzJmZ/5nMAJnMM5nMZpnMmZnMzJnM/5n/AJn/M5n/Zpn/mZn/zJn//8wAAMwAM8wAZswAmcwAzMwA/8wzAMwzM8wzZswzmcwzzMwz/8xmAMxmM8xmZsxmmcxmzMxm/8yZAMyZM8yZZsyZmcyZzMyZ/8zMAMzMM8zMZszMmczMzMzM/8z/AMz/M8z/Zsz/mcz/zMz///8AAP8AM/8AZv8Amf8AzP8A//8zAP8zM/8zZv8zmf8zzP8z//9mAP9mM/9mZv9mmf9mzP9m//+ZAP+ZM/+ZZv+Zmf+ZzP+Z///MAP/MM//MZv/Mmf/MzP/M////AP//M///Zv//mf//zP///yH5BAEAABAALAAAAADdAEoAAAj/AP8JHEiwoMGDCBMqXMiwocOHECNKnEixosWLGDNq3Mixo8ePIEOKHEmypMmTKFOqXMmypcuXMGPKnEmzps2bOHPq3Mmzp8+fQIMKHUq0qNGjSJMqXcq0qdOnUKNKnUq1qtWrFlFg3bpSK9evJr2CHRtSLNmzFFF4VSvQLNq3ELXKbQu3bty1dO3qVcj2n1i3ewPn9TsQsGC9f/9NUcnWcNi5B6dALqm2slvHhFv+TXyyb0HOGgFXTug5LEHQCDFbNby2dMbLhFFI9qwapFm8DGtLnTy4d+jCmQ/yJgk7ON+xw4tzTOwauO7lp337bYz66ejm0T9PvC4652zZAxcL/3crvrDsypKR9sVcHnha3O5tOp5v8PlR2qTrf7Y8un51+4ylJqB2EfGn1neWIYiegecZqOCBDCpIoEDtTRhfgdldSBN9+inXFoP3aWihdA5VZ9xM7Ol3YoVOlcdiQSwCmCFr8vWn4oc4ktiUZQ3dht1CPN4I1HMyEiVjkQMmGVRtSAqFZJMZCmcUZlACKeVH3Zn3opXvObblYVnaNuJhPnkopohk8mQmllGmWeNijUUJnl9fkpbenINV6eZjF8I23EPNmbjnhnLu5xuDNN6o56Aj3SYnfBIleiKjMk3maHxQwqkopTVBOqNzkUq3KKe2rSVecWKlV6BXqvY2KqkovTnKJaxD1YmRrLSyhOuYufbq66/ABivssMQWa+yxyCar7LLMNuvss9BGK+201FZr7bXYZqvtttw6GxAAOw==)\n",
        "\n",
        "\n",
        "\n",
        "**What is the probability of getting 24 heads in 30 tosses ?**\n",
        "\n",
        "It is the probability of getting heads 24 times or more. \n",
        "\n",
        "####  Approach\n",
        "\n",
        "Simulation. Run the experiment 100,000 times. Find the percentage of times the experiment returned 24 or more heads. If it is less than 5%, we conclude that the coin is biased. "
      ]
    },
    {
      "cell_type": "code",
      "metadata": {
        "collapsed": true,
        "id": "K7mD6giWx7sP"
      },
      "source": [
        "total_tosses = 30\n",
        "num_heads = 24\n",
        "prob_head = 0.5"
      ],
      "execution_count": null,
      "outputs": []
    },
    {
      "cell_type": "code",
      "metadata": {
        "collapsed": true,
        "id": "dcOf217Ax7sQ",
        "colab": {
          "base_uri": "https://localhost:8080/"
        },
        "outputId": "15fd92ed-b723-4d72-d7f6-acfda793293f"
      },
      "source": [
        "#0 is tail. 1 is heads. Generate one experiment\n",
        "experiment = np.random.randint(0,2,total_tosses)\n",
        "experiment"
      ],
      "execution_count": null,
      "outputs": [
        {
          "output_type": "execute_result",
          "data": {
            "text/plain": [
              "array([1, 1, 0, 0, 1, 0, 0, 0, 0, 1, 0, 1, 1, 1, 1, 0, 0, 1, 0, 0, 0, 1,\n",
              "       1, 0, 0, 1, 0, 1, 0, 1])"
            ]
          },
          "metadata": {
            "tags": []
          },
          "execution_count": 5
        }
      ]
    },
    {
      "cell_type": "code",
      "metadata": {
        "colab": {
          "base_uri": "https://localhost:8080/"
        },
        "id": "28eA-Lpox7sQ",
        "outputId": "a9422bea-f6f2-48ce-dc68-ed6668a803a2"
      },
      "source": [
        "print(\"Data of the Experiment:\", experiment)"
      ],
      "execution_count": null,
      "outputs": [
        {
          "output_type": "stream",
          "text": [
            "Data of the Experiment: [1 1 0 0 1 0 0 0 0 1 0 1 1 1 1 0 0 1 0 0 0 1 1 0 0 1 0 1 0 1]\n"
          ],
          "name": "stdout"
        }
      ]
    },
    {
      "cell_type": "code",
      "metadata": {
        "colab": {
          "base_uri": "https://localhost:8080/"
        },
        "id": "f4_LvtNZx7sR",
        "outputId": "5d416a60-e00a-4020-c467-7cae5fd7737f"
      },
      "source": [
        "#Find the number of heads\n",
        "print(\"Heads in the Experiment:\", experiment[experiment==1])  #This will give all the heads in the array"
      ],
      "execution_count": null,
      "outputs": [
        {
          "output_type": "stream",
          "text": [
            "Heads in the Experiment: [1 1 1 1 1 1 1 1 1 1 1 1 1 1]\n"
          ],
          "name": "stdout"
        }
      ]
    },
    {
      "cell_type": "code",
      "metadata": {
        "id": "uRlKvL8Lx7sR",
        "colab": {
          "base_uri": "https://localhost:8080/"
        },
        "outputId": "38588484-cc10-4a82-d297-c5d7b246f3db"
      },
      "source": [
        "head_count = experiment[experiment==1].shape[0] #This will get the count of heads in the array\n",
        "print(\"Number of heads in the experiment:\", head_count)"
      ],
      "execution_count": null,
      "outputs": [
        {
          "output_type": "stream",
          "text": [
            "Number of heads in the experiment: 14\n"
          ],
          "name": "stdout"
        }
      ]
    },
    {
      "cell_type": "code",
      "metadata": {
        "id": "K3HloRRDx7sS"
      },
      "source": [
        "#Now, the above experiment needs to be repeated 100 times. Let's write a function and put the above code in a loop\n",
        "\n",
        "def coin_toss_experiment(times_to_repeat):\n",
        "\n",
        "    head_count = np.empty([times_to_repeat,1], dtype=int)\n",
        "    \n",
        "    for times in np.arange(times_to_repeat):\n",
        "        experiment = np.random.randint(0,2,total_tosses)\n",
        "        head_count[times] = experiment[experiment==1].shape[0]\n",
        "    \n",
        "    return head_count"
      ],
      "execution_count": null,
      "outputs": []
    },
    {
      "cell_type": "code",
      "metadata": {
        "id": "GMfZfSxfx7sS"
      },
      "source": [
        "head_count = coin_toss_experiment(100)"
      ],
      "execution_count": null,
      "outputs": []
    },
    {
      "cell_type": "code",
      "metadata": {
        "id": "-XYuBWOqx7sT",
        "colab": {
          "base_uri": "https://localhost:8080/"
        },
        "outputId": "7d45b3a2-ae46-46dc-80be-5093506abe36"
      },
      "source": [
        "head_count[:10] "
      ],
      "execution_count": null,
      "outputs": [
        {
          "output_type": "execute_result",
          "data": {
            "text/plain": [
              "array([[15],\n",
              "       [17],\n",
              "       [15],\n",
              "       [18],\n",
              "       [20],\n",
              "       [17],\n",
              "       [17],\n",
              "       [15],\n",
              "       [11],\n",
              "       [11]])"
            ]
          },
          "metadata": {
            "tags": []
          },
          "execution_count": 11
        }
      ]
    },
    {
      "cell_type": "code",
      "metadata": {
        "id": "fh1z5WKEx7sT",
        "colab": {
          "base_uri": "https://localhost:8080/"
        },
        "outputId": "313f93cf-a909-4da7-f333-43deeffb8c14"
      },
      "source": [
        "print(\"Dimensions:\", head_count.shape, \"\\n\",\"Type of object:\", type(head_count))"
      ],
      "execution_count": null,
      "outputs": [
        {
          "output_type": "stream",
          "text": [
            "Dimensions: (100, 1) \n",
            " Type of object: <class 'numpy.ndarray'>\n"
          ],
          "name": "stdout"
        }
      ]
    },
    {
      "cell_type": "code",
      "metadata": {
        "id": "0jDuTRRmx7sU"
      },
      "source": [
        "#Let's plot the above distribution\n",
        "import matplotlib.pyplot as plt\n",
        "%matplotlib inline\n",
        "import seaborn as sns\n",
        "sns.set(color_codes = True)"
      ],
      "execution_count": null,
      "outputs": []
    },
    {
      "cell_type": "code",
      "metadata": {
        "id": "k8rWlDxKx7sU",
        "colab": {
          "base_uri": "https://localhost:8080/",
          "height": 383
        },
        "outputId": "48bc6b08-6bc1-4401-c386-869a666232ba"
      },
      "source": [
        "sns.displot(head_count, kde=True)"
      ],
      "execution_count": null,
      "outputs": [
        {
          "output_type": "execute_result",
          "data": {
            "text/plain": [
              "<seaborn.axisgrid.FacetGrid at 0x7f0660933cc0>"
            ]
          },
          "metadata": {
            "tags": []
          },
          "execution_count": 16
        },
        {
          "output_type": "display_data",
          "data": {
            "image/png": "[encoded data removed]",
            "text/plain": [
              "<Figure size 406.6x360 with 1 Axes>"
            ]
          },
          "metadata": {
            "tags": []
          }
        }
      ]
    },
    {
      "cell_type": "markdown",
      "metadata": {
        "id": "kTv4HqXbx7sV"
      },
      "source": [
        "**Exercise**: Try setting `kde=True` in the above cell and observe what happens"
      ]
    },
    {
      "cell_type": "code",
      "metadata": {
        "id": "AaXDuySKx7sV",
        "colab": {
          "base_uri": "https://localhost:8080/",
          "height": 383
        },
        "outputId": "c586feb0-1f0a-4f2e-a27d-98c2a1485712"
      },
      "source": [
        "sns.displot(head_count, kde=False)"
      ],
      "execution_count": null,
      "outputs": [
        {
          "output_type": "execute_result",
          "data": {
            "text/plain": [
              "<seaborn.axisgrid.FacetGrid at 0x7f06580145c0>"
            ]
          },
          "metadata": {
            "tags": []
          },
          "execution_count": 18
        },
        {
          "output_type": "display_data",
          "data": {
            "image/png": "[encoded data removed]",
            "text/plain": [
              "<Figure size 406.6x360 with 1 Axes>"
            ]
          },
          "metadata": {
            "tags": []
          }
        }
      ]
    },
    {
      "cell_type": "code",
      "metadata": {
        "id": "ZMw-YKC9x7sW",
        "colab": {
          "base_uri": "https://localhost:8080/"
        },
        "outputId": "3035237a-e1f2-4e8e-b951-ca9f41aa441c"
      },
      "source": [
        "#Number of times the experiment returned 24 heads.\n",
        "head_count[head_count>=24]"
      ],
      "execution_count": null,
      "outputs": [
        {
          "output_type": "execute_result",
          "data": {
            "text/plain": [
              "array([], dtype=int64)"
            ]
          },
          "metadata": {
            "tags": []
          },
          "execution_count": 19
        }
      ]
    },
    {
      "cell_type": "code",
      "metadata": {
        "id": "qqxatsL8x7sX",
        "colab": {
          "base_uri": "https://localhost:8080/"
        },
        "outputId": "0f3923c2-2b53-494f-c81a-9b575167f3fe"
      },
      "source": [
        "print(\"No of times experiment returned 24 heads or more:\", head_count[head_count>=24].shape[0])\n",
        "print(\"% of times with 24 or more heads: \", head_count[head_count>=24].shape[0]/float(head_count.shape[0])*100)"
      ],
      "execution_count": null,
      "outputs": [
        {
          "output_type": "stream",
          "text": [
            "No of times experiment returned 24 heads or more: 0\n",
            "% of times with 24 or more heads:  0.0\n"
          ],
          "name": "stdout"
        }
      ]
    },
    {
      "cell_type": "code",
      "metadata": {
        "id": "vseKPF5fx7sX"
      },
      "source": [
        ""
      ],
      "execution_count": null,
      "outputs": []
    },
    {
      "cell_type": "markdown",
      "metadata": {
        "id": "VmGfFZFhx7sY"
      },
      "source": [
        "####  Exercise: Repeat the experiment 100,000 times. "
      ]
    },
    {
      "cell_type": "code",
      "metadata": {
        "collapsed": true,
        "id": "Wa7D5cJox7sY"
      },
      "source": [
        ""
      ],
      "execution_count": null,
      "outputs": []
    },
    {
      "cell_type": "markdown",
      "metadata": {
        "id": "upR8lX_fx7sY"
      },
      "source": [
        "# Is the coin fair?"
      ]
    },
    {
      "cell_type": "code",
      "metadata": {
        "collapsed": true,
        "id": "xEGkRXsyx7sZ"
      },
      "source": [
        ""
      ],
      "execution_count": null,
      "outputs": []
    },
    {
      "cell_type": "markdown",
      "metadata": {
        "id": "OlDYudHjx7sZ"
      },
      "source": [
        "### Extra pointers on numpy"
      ]
    },
    {
      "cell_type": "markdown",
      "metadata": {
        "id": "Be0JT8nHx7sZ"
      },
      "source": [
        "**** Removing `for` loop in the funciton ****"
      ]
    },
    {
      "cell_type": "code",
      "metadata": {
        "id": "Rx3Yh7nsx7sa"
      },
      "source": [
        ""
      ],
      "execution_count": null,
      "outputs": []
    },
    {
      "cell_type": "markdown",
      "metadata": {
        "id": "5xYBwFQVx7sa"
      },
      "source": [
        "#### Exercise: Benchmark `coin_toss_experiment` and `coin_toss_experiment_2` for 100 and 100,000 runs and report improvements, if any"
      ]
    },
    {
      "cell_type": "code",
      "metadata": {
        "collapsed": true,
        "id": "ntMd27Unx7sa"
      },
      "source": [
        ""
      ],
      "execution_count": null,
      "outputs": []
    }
  ]
}